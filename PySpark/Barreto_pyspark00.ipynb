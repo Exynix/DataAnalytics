{
 "cells": [
  {
   "cell_type": "markdown",
   "metadata": {},
   "source": [
    "# Laboratorio Apache Spark \n",
    "## *Analítica de Datos*\n",
    "## *Pontificia Universidad Javeriana*\n",
    "- **Autor:** David Santiago Barreto Mora\n",
    "- **Objetivo:** Introducción al ambiente y consultas de ApacheSpark.\n",
    "---"
   ]
  },
  {
   "cell_type": "markdown",
   "metadata": {},
   "source": [
    "Primero importamos las librerias que necesitamos."
   ]
  },
  {
   "cell_type": "code",
   "execution_count": 4,
   "metadata": {},
   "outputs": [],
   "source": [
    "\n",
    "# Pyspark\n",
    "import pyspark\n",
    "from pyspark.context import SparkContext\n",
    "from pyspark.sql.session import SparkSession\n",
    "from pyspark.sql.functions import col\n",
    "from pyspark.sql.types import IntegerType, FloatType\n"
   ]
  },
  {
   "cell_type": "code",
   "execution_count": 5,
   "metadata": {},
   "outputs": [
    {
     "ename": "NameError",
     "evalue": "name 'dbutils' is not defined",
     "output_type": "error",
     "traceback": [
      "\u001b[0;31m---------------------------------------------------------------------------\u001b[0m",
      "\u001b[0;31mNameError\u001b[0m                                 Traceback (most recent call last)",
      "\u001b[1;32m/Users/davidbarreto/Documents/University/6thSemester/DataAnalytics/PySpark/Barreto_pyspark00.ipynb Cell 4\u001b[0m line \u001b[0;36m1\n\u001b[0;32m----> <a href='vscode-notebook-cell:/Users/davidbarreto/Documents/University/6thSemester/DataAnalytics/PySpark/Barreto_pyspark00.ipynb#W4sZmlsZQ%3D%3D?line=0'>1</a>\u001b[0m display(dbutils\u001b[39m.\u001b[39mfs\u001b[39m.\u001b[39mls(\u001b[39m'\u001b[39m\u001b[39mdatabricks-datasets/samples/population-vs-price/data_geo.csv\u001b[39m\u001b[39m'\u001b[39m, \u001b[39mTrue\u001b[39;00m))\n",
      "\u001b[0;31mNameError\u001b[0m: name 'dbutils' is not defined"
     ]
    }
   ],
   "source": [
    "display(dbutils.fs.ls('databricks-datasets/samples/population-vs-price/data_geo.csv', True))\n",
    "dfSample00 = spark.read.csv('dbfs:/databricks-datasets/samples/population-vs-price/data_geo.csv', header=True, inferSchema=True)\n",
    "dfSam"
   ]
  },
  {
   "cell_type": "code",
   "execution_count": null,
   "metadata": {},
   "outputs": [],
   "source": [
    "dfSample02 = dfSample01.withColumn('2014_rank', col=('2014_rank').cast(IntegerType()))\n",
    ".withColumn('2015_rank', col=('2015_rank').cast(IntegerType()))\n"
   ]
  }
 ],
 "metadata": {
  "kernelspec": {
   "display_name": "base",
   "language": "python",
   "name": "python3"
  },
  "language_info": {
   "codemirror_mode": {
    "name": "ipython",
    "version": 3
   },
   "file_extension": ".py",
   "mimetype": "text/x-python",
   "name": "python",
   "nbconvert_exporter": "python",
   "pygments_lexer": "ipython3",
   "version": "3.11.4"
  }
 },
 "nbformat": 4,
 "nbformat_minor": 2
}
