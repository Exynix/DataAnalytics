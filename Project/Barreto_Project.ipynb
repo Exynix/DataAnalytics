{
 "cells": [
  {
   "cell_type": "markdown",
   "metadata": {},
   "source": [
    "# Proyecto Analítica de Datos \n",
    "### *Pontificia Universidad Javeriana* \n",
    "#### **Autor:** David Santiago Barreto Mora\n",
    "#### **Curso:** Analítica de Datos\n",
    "#### **Profesor:** Jhon Jairo Corredor\n",
    "---"
   ]
  },
  {
   "cell_type": "markdown",
   "metadata": {},
   "source": [
    "Data Sources:\n",
    "1. https://www.datos.gov.co/Salud-y-Protecci-n-Social/NACIMIENTOS-EN-INSTITUTOS-DE-SALUD-DE-BUCARAMANGA/9rty-i39a\n",
    "2. https://www.datos.gov.co/Salud-y-Protecci-n-Social/Nacimientos-Hospital-General-de-Medell-n-2020/bgwm-xwyw\n"
   ]
  }
 ],
 "metadata": {
  "language_info": {
   "name": "python"
  }
 },
 "nbformat": 4,
 "nbformat_minor": 2
}
