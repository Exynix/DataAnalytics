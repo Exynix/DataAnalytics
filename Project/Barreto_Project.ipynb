{
 "cells": [
  {
   "cell_type": "markdown",
   "metadata": {},
   "source": [
    "# Proyecto Analítica de Datos \n",
    "### *Pontificia Universidad Javeriana* \n",
    "#### **Autor:** David Santiago Barreto Mora\n",
    "#### **Curso:** Analítica de Datos\n",
    "#### **Profesor:** John Jairo Corredor\n",
    "---"
   ]
  },
  {
   "cell_type": "markdown",
   "metadata": {},
   "source": [
    "# Introducción \n",
    "El objetivo del siguiento proyecto es desarrollar un estudio analítico completo sobre la información de nacimientos en dos municipios de Colombia. Se plantearan dos preguntas iniciales a partir de las cuales se basará todo el estudio. Se estudiaran los datos y sus características, para luego ser procesados y limpiados, para posteriormente aplicar modelos de Machine learning que nos permitan dar solución a las preguntas planteadas. \n",
    "\n",
    "Los datos fueron escogidos de \"www.datos.gov.co, de los links:\n",
    "1. https://www.datos.gov.co/Salud-y-Protecci-n-Social/NACIMIENTOS-EN-INSTITUTOS-DE-SALUD-DE-BUCARAMANGA/9rty-i39a\n",
    "2. https://www.datos.gov.co/Salud-y-Protecci-n-Social/Nacimientos-Hospital-General-de-Medell-n-2020/bgwm-xwyw\n"
   ]
  },
  {
   "cell_type": "markdown",
   "metadata": {},
   "source": [
    "---\n",
    "# 3.A Fase Inicial"
   ]
  },
  {
   "cell_type": "markdown",
   "metadata": {},
   "source": [
    "## 3.A.1 Selección de conjunto de datos y análisis de contexto\n",
    "Los datasets seleccionados pertenencen a:\n",
    "1. Nacimientos en institutos de salud en Bucaramanga del año 2020 al 2021.\n",
    "2. Nacimientos en el Hospital General de Medellín del año 2020.\n",
    "\n",
    "Se eligen estos datasets por dos razones principales. La primera, es que los conjuntos de datos tienen cierta similitud en la forma en que se presenta la información. Más adelante podremos observar factores comunes en multiples columnas, y también en la forma que presentan los datos.  La segunda razón, es que los datasets son de regiones del país con alto grado de diferencia, por lo que se puede buscar patrones recurrentes en diferentes zonas del país."
   ]
  },
  {
   "cell_type": "markdown",
   "metadata": {},
   "source": [
    "## 3.A.2 Proposición de dos preguntas relevantes al estudio\n"
   ]
  },
  {
   "cell_type": "markdown",
   "metadata": {},
   "source": [
    "Las preguntas planteadas tienen el propósito de descubrir relaciones entre los nacimientos registrados y fenómenos socio-económicos. A través de la solución a estas preguntas se buscan corroborar realidades poblacionales tales como las correlaciones entre nivel educativo con la cantidad de nacimientos, y el acceso a servicios de salud de diferentes segmentos de la población.\n",
    "\n",
    "*Preguntas planteadas:*\n",
    "1. ¿Que tan relacionado está el nivel educativo con la cantidad de nacimientos?\n",
    "Con esta pregunta se busca corroborar la hipótesis de que los segmentos poblacionales con menos recursos son los que tienen más hijos, o nacimientos. El objetivo del cuestionamiento es relacionar los nacimientos con características sociales de la población. \n",
    "\n",
    "2. ¿Que correlación hay entre el tiempo de gestión y la persona que atiende el parto?\n",
    "La pregunta viene de la hipótesis de que un menor tiempo de gestación puede estar relacionado a la persona que atiende el parto. Como se verá más adelante, los conjuntos de datos nos dicen quien atendió un parto; donde la distinción principal que nos interesa es si lo atendio un trabajador capacitado, o una persona informal A través de esta pregunta\n",
    "\n",
    "\n"
   ]
  },
  {
   "cell_type": "markdown",
   "metadata": {},
   "source": [
    "## 3.A. Exploración de datos.\n",
    "Iniciamos la exploración de datos con los pasos típicos, pero esenciales. Importar librerías y leer de forma inicial nuestros dataframes. Podemos también observar datos básicos de nuestros conjuntos de datos."
   ]
  },
  {
   "cell_type": "code",
   "execution_count": 21,
   "metadata": {},
   "outputs": [],
   "source": [
    "# Importamos las librerias esenciales para la analítica de datos\n",
    "# Manipulacion y procesamiento de datos\n",
    "import pandas as pd\n",
    "import numpy as np\n",
    "\n",
    "# Visualizacion de datos\n",
    "import matplotlib.pyplot as plt\n",
    "import seaborn as sns"
   ]
  },
  {
   "cell_type": "code",
   "execution_count": 22,
   "metadata": {},
   "outputs": [
    {
     "data": {
      "text/html": [
       "<div>\n",
       "<style scoped>\n",
       "    .dataframe tbody tr th:only-of-type {\n",
       "        vertical-align: middle;\n",
       "    }\n",
       "\n",
       "    .dataframe tbody tr th {\n",
       "        vertical-align: top;\n",
       "    }\n",
       "\n",
       "    .dataframe thead th {\n",
       "        text-align: right;\n",
       "    }\n",
       "</style>\n",
       "<table border=\"1\" class=\"dataframe\">\n",
       "  <thead>\n",
       "    <tr style=\"text-align: right;\">\n",
       "      <th></th>\n",
       "      <th>Ficha de información publicación datos abiertos</th>\n",
       "      <th>SEXO</th>\n",
       "      <th>Peso</th>\n",
       "      <th>Talla</th>\n",
       "      <th>Parto atendido</th>\n",
       "      <th>Tiempo gestación</th>\n",
       "      <th>Número consultas prenatales</th>\n",
       "      <th>Tipo parto</th>\n",
       "      <th>Mutiplicidad</th>\n",
       "      <th>Apgar1</th>\n",
       "      <th>...</th>\n",
       "      <th>Estado conyugal madre</th>\n",
       "      <th>Nivel educativo</th>\n",
       "      <th>País de residencia</th>\n",
       "      <th>Municipio</th>\n",
       "      <th>Área residencia</th>\n",
       "      <th>Localidad</th>\n",
       "      <th>Número hijos nacidos vivos</th>\n",
       "      <th>Régimen seguridad</th>\n",
       "      <th>Nombre administradora</th>\n",
       "      <th>Nivel educativo padre</th>\n",
       "    </tr>\n",
       "  </thead>\n",
       "  <tbody>\n",
       "    <tr>\n",
       "      <th>0</th>\n",
       "      <td>3308</td>\n",
       "      <td>FEMENINO</td>\n",
       "      <td>3308</td>\n",
       "      <td>49</td>\n",
       "      <td>MÉDICO</td>\n",
       "      <td>40.0</td>\n",
       "      <td>9</td>\n",
       "      <td>ESPONTÁNEO</td>\n",
       "      <td>SIMPLE</td>\n",
       "      <td>9.0</td>\n",
       "      <td>...</td>\n",
       "      <td>ESTÁ SOLTERA</td>\n",
       "      <td>MEDIA ACADÉMICA O CLÁSICA</td>\n",
       "      <td>COLOMBIA</td>\n",
       "      <td>ANTIOQUIA</td>\n",
       "      <td>RURAL DISPERSO</td>\n",
       "      <td>NaN</td>\n",
       "      <td>1</td>\n",
       "      <td>SUBSIDIADO</td>\n",
       "      <td>SAVIA SALUD E.P.S.</td>\n",
       "      <td>MEDIA ACADÉMICA O CLÁSICA</td>\n",
       "    </tr>\n",
       "    <tr>\n",
       "      <th>1</th>\n",
       "      <td>2489</td>\n",
       "      <td>FEMENINO</td>\n",
       "      <td>2489</td>\n",
       "      <td>47</td>\n",
       "      <td>MÉDICO</td>\n",
       "      <td>38.0</td>\n",
       "      <td>7</td>\n",
       "      <td>ESPONTÁNEO</td>\n",
       "      <td>SIMPLE</td>\n",
       "      <td>9.0</td>\n",
       "      <td>...</td>\n",
       "      <td>NO ESTÁ CASADA Y LLEVA MENOS DE DOS AÑOS VIVIE...</td>\n",
       "      <td>MEDIA TÉCNICA</td>\n",
       "      <td>COLOMBIA</td>\n",
       "      <td>ANTIOQUIA</td>\n",
       "      <td>CABECERA MUNICIPAL</td>\n",
       "      <td>ROBLEDO</td>\n",
       "      <td>1</td>\n",
       "      <td>SUBSIDIADO</td>\n",
       "      <td>SAVIA SALUD E.P.S.</td>\n",
       "      <td>MEDIA TÉCNICA</td>\n",
       "    </tr>\n",
       "    <tr>\n",
       "      <th>2</th>\n",
       "      <td>1352</td>\n",
       "      <td>MASCULINO</td>\n",
       "      <td>1352</td>\n",
       "      <td>39</td>\n",
       "      <td>MÉDICO</td>\n",
       "      <td>31.0</td>\n",
       "      <td>1</td>\n",
       "      <td>CESÁREA</td>\n",
       "      <td>SIMPLE</td>\n",
       "      <td>7.0</td>\n",
       "      <td>...</td>\n",
       "      <td>NO ESTÁ CASADA Y LLEVA DOS AÑOS O MÁS VIVIENDO...</td>\n",
       "      <td>BÁSICA PRIMARIA</td>\n",
       "      <td>COLOMBIA</td>\n",
       "      <td>ANTIOQUIA</td>\n",
       "      <td>CABECERA MUNICIPAL</td>\n",
       "      <td>NaN</td>\n",
       "      <td>4</td>\n",
       "      <td>CONTRIBUTIVO</td>\n",
       "      <td>EPS SURA</td>\n",
       "      <td>BÁSICA SECUNDARIA</td>\n",
       "    </tr>\n",
       "    <tr>\n",
       "      <th>3</th>\n",
       "      <td>2708</td>\n",
       "      <td>MASCULINO</td>\n",
       "      <td>2708</td>\n",
       "      <td>48</td>\n",
       "      <td>MÉDICO</td>\n",
       "      <td>38.0</td>\n",
       "      <td>3</td>\n",
       "      <td>ESPONTÁNEO</td>\n",
       "      <td>SIMPLE</td>\n",
       "      <td>9.0</td>\n",
       "      <td>...</td>\n",
       "      <td>ESTÁ SOLTERA</td>\n",
       "      <td>MEDIA ACADÉMICA O CLÁSICA</td>\n",
       "      <td>COLOMBIA</td>\n",
       "      <td>ANTIOQUIA</td>\n",
       "      <td>CABECERA MUNICIPAL</td>\n",
       "      <td>COMUNA 01</td>\n",
       "      <td>3</td>\n",
       "      <td>NO ASEGURADO</td>\n",
       "      <td>NaN</td>\n",
       "      <td>SIN INFORMACIÓN</td>\n",
       "    </tr>\n",
       "    <tr>\n",
       "      <th>4</th>\n",
       "      <td>3447</td>\n",
       "      <td>FEMENINO</td>\n",
       "      <td>3447</td>\n",
       "      <td>49</td>\n",
       "      <td>MÉDICO</td>\n",
       "      <td>40.0</td>\n",
       "      <td>7</td>\n",
       "      <td>ESPONTÁNEO</td>\n",
       "      <td>SIMPLE</td>\n",
       "      <td>8.0</td>\n",
       "      <td>...</td>\n",
       "      <td>NO ESTÁ CASADA Y LLEVA MENOS DE DOS AÑOS VIVIE...</td>\n",
       "      <td>BÁSICA SECUNDARIA</td>\n",
       "      <td>COLOMBIA</td>\n",
       "      <td>ANTIOQUIA</td>\n",
       "      <td>CABECERA MUNICIPAL</td>\n",
       "      <td>ARANJUEZ</td>\n",
       "      <td>1</td>\n",
       "      <td>SUBSIDIADO</td>\n",
       "      <td>SAVIA SALUD E.P.S.</td>\n",
       "      <td>MEDIA ACADÉMICA O CLÁSICA</td>\n",
       "    </tr>\n",
       "  </tbody>\n",
       "</table>\n",
       "<p>5 rows × 24 columns</p>\n",
       "</div>"
      ],
      "text/plain": [
       "   Ficha de información publicación datos abiertos       SEXO  Peso  Talla   \\\n",
       "0                                             3308   FEMENINO  3308      49   \n",
       "1                                             2489   FEMENINO  2489      47   \n",
       "2                                             1352  MASCULINO  1352      39   \n",
       "3                                             2708  MASCULINO  2708      48   \n",
       "4                                             3447   FEMENINO  3447      49   \n",
       "\n",
       "  Parto atendido  Tiempo gestación   Número consultas prenatales  Tipo parto  \\\n",
       "0         MÉDICO               40.0                            9  ESPONTÁNEO   \n",
       "1         MÉDICO               38.0                            7  ESPONTÁNEO   \n",
       "2         MÉDICO               31.0                            1     CESÁREA   \n",
       "3         MÉDICO               38.0                            3  ESPONTÁNEO   \n",
       "4         MÉDICO               40.0                            7  ESPONTÁNEO   \n",
       "\n",
       "  Mutiplicidad   Apgar1  ...  \\\n",
       "0        SIMPLE     9.0  ...   \n",
       "1        SIMPLE     9.0  ...   \n",
       "2        SIMPLE     7.0  ...   \n",
       "3        SIMPLE     9.0  ...   \n",
       "4        SIMPLE     8.0  ...   \n",
       "\n",
       "                               Estado conyugal madre  \\\n",
       "0                                       ESTÁ SOLTERA   \n",
       "1  NO ESTÁ CASADA Y LLEVA MENOS DE DOS AÑOS VIVIE...   \n",
       "2  NO ESTÁ CASADA Y LLEVA DOS AÑOS O MÁS VIVIENDO...   \n",
       "3                                       ESTÁ SOLTERA   \n",
       "4  NO ESTÁ CASADA Y LLEVA MENOS DE DOS AÑOS VIVIE...   \n",
       "\n",
       "            Nivel educativo  País de residencia  Municipio   \\\n",
       "0  MEDIA ACADÉMICA O CLÁSICA            COLOMBIA  ANTIOQUIA   \n",
       "1              MEDIA TÉCNICA            COLOMBIA  ANTIOQUIA   \n",
       "2            BÁSICA PRIMARIA            COLOMBIA  ANTIOQUIA   \n",
       "3  MEDIA ACADÉMICA O CLÁSICA            COLOMBIA  ANTIOQUIA   \n",
       "4          BÁSICA SECUNDARIA            COLOMBIA  ANTIOQUIA   \n",
       "\n",
       "     Área residencia   Localidad Número hijos nacidos vivos   \\\n",
       "0      RURAL DISPERSO        NaN                           1   \n",
       "1  CABECERA MUNICIPAL    ROBLEDO                           1   \n",
       "2  CABECERA MUNICIPAL        NaN                           4   \n",
       "3  CABECERA MUNICIPAL  COMUNA 01                           3   \n",
       "4  CABECERA MUNICIPAL   ARANJUEZ                           1   \n",
       "\n",
       "  Régimen seguridad  Nombre administradora       Nivel educativo padre  \n",
       "0         SUBSIDIADO     SAVIA SALUD E.P.S.  MEDIA ACADÉMICA O CLÁSICA  \n",
       "1         SUBSIDIADO     SAVIA SALUD E.P.S.              MEDIA TÉCNICA  \n",
       "2       CONTRIBUTIVO               EPS SURA          BÁSICA SECUNDARIA  \n",
       "3       NO ASEGURADO                    NaN            SIN INFORMACIÓN  \n",
       "4         SUBSIDIADO     SAVIA SALUD E.P.S.  MEDIA ACADÉMICA O CLÁSICA  \n",
       "\n",
       "[5 rows x 24 columns]"
      ]
     },
     "execution_count": 22,
     "metadata": {},
     "output_type": "execute_result"
    }
   ],
   "source": [
    "# Importamos los datos de los nacimientos en el hospital general de medellin.\n",
    "medellin_DF = pd.read_csv(\"Nacimientos_Hospital_General_de_Medell_n_2020_20231109.csv\")\n",
    "\n",
    "# Visualizamos los datos\n",
    "medellin_DF.head()"
   ]
  },
  {
   "cell_type": "markdown",
   "metadata": {},
   "source": [
    "Por ejemplo, el dataset de Hospital General de Medellin (HGM) tiene 24 columnas en total."
   ]
  },
  {
   "cell_type": "code",
   "execution_count": 23,
   "metadata": {},
   "outputs": [
    {
     "data": {
      "text/html": [
       "<div>\n",
       "<style scoped>\n",
       "    .dataframe tbody tr th:only-of-type {\n",
       "        vertical-align: middle;\n",
       "    }\n",
       "\n",
       "    .dataframe tbody tr th {\n",
       "        vertical-align: top;\n",
       "    }\n",
       "\n",
       "    .dataframe thead th {\n",
       "        text-align: right;\n",
       "    }\n",
       "</style>\n",
       "<table border=\"1\" class=\"dataframe\">\n",
       "  <thead>\n",
       "    <tr style=\"text-align: right;\">\n",
       "      <th></th>\n",
       "      <th>identificador</th>\n",
       "      <th>DEPARTAMENTO</th>\n",
       "      <th>MUNICIPIO</th>\n",
       "      <th>AREA NACIMIENTO</th>\n",
       "      <th>SITIO NACIMIENTO</th>\n",
       "      <th>CÓDIGO INSTITUCIÓN</th>\n",
       "      <th>NOMBRE INSTITUCIÓN</th>\n",
       "      <th>SEXO</th>\n",
       "      <th>PESO (Gramos)</th>\n",
       "      <th>TALLA (Centímetros)</th>\n",
       "      <th>...</th>\n",
       "      <th>RÉGIMEN SEGURIDAD</th>\n",
       "      <th>TIPO ADMINISTRADORA</th>\n",
       "      <th>NOMBRE ADMINISTRADORA</th>\n",
       "      <th>ED</th>\n",
       "      <th>NIVEL EDUCATIVO PADRE</th>\n",
       "      <th>ULTIMO AÑO APROBADO PADRE</th>\n",
       "      <th>MES</th>\n",
       "      <th>NOMBRE COMUNA</th>\n",
       "      <th>CURSO DE VIDA MADRE</th>\n",
       "      <th>AÑO REPORTE</th>\n",
       "    </tr>\n",
       "  </thead>\n",
       "  <tbody>\n",
       "    <tr>\n",
       "      <th>0</th>\n",
       "      <td>1.0</td>\n",
       "      <td>SANTANDER</td>\n",
       "      <td>BUCARAMANGA</td>\n",
       "      <td>CABECERA MUNICIPAL</td>\n",
       "      <td>INSTITUCIÓN DE SALUD</td>\n",
       "      <td>680010000000</td>\n",
       "      <td>HOSPITAL LOCAL DEL NORTE</td>\n",
       "      <td>FEMENINO</td>\n",
       "      <td>3430</td>\n",
       "      <td>51</td>\n",
       "      <td>...</td>\n",
       "      <td>SUBSIDIADO</td>\n",
       "      <td>ENTIDAD PROMOTORA DE SALUD SUBSIDIADO</td>\n",
       "      <td>COOSALUD E.S.S. -  ARS COOPERATIVA EMPRESA SOL...</td>\n",
       "      <td>15.0</td>\n",
       "      <td>SIN INFORMACIÓN</td>\n",
       "      <td>NaN</td>\n",
       "      <td>MARZO</td>\n",
       "      <td>NORTE</td>\n",
       "      <td>ADOLESCENCIA</td>\n",
       "      <td>2020</td>\n",
       "    </tr>\n",
       "    <tr>\n",
       "      <th>1</th>\n",
       "      <td>2.0</td>\n",
       "      <td>SANTANDER</td>\n",
       "      <td>BUCARAMANGA</td>\n",
       "      <td>CABECERA MUNICIPAL</td>\n",
       "      <td>INSTITUCIÓN DE SALUD</td>\n",
       "      <td>680000000000</td>\n",
       "      <td>HOSPITAL LOCAL DEL NORTE</td>\n",
       "      <td>MASCULINO</td>\n",
       "      <td>3300</td>\n",
       "      <td>50</td>\n",
       "      <td>...</td>\n",
       "      <td>SUBSIDIADO</td>\n",
       "      <td>ENTIDAD PROMOTORA DE SALUD SUBSIDIADO</td>\n",
       "      <td>COOSALUD E.S.S. -  ARS COOPERATIVA EMPRESA SOL...</td>\n",
       "      <td>20.0</td>\n",
       "      <td>SIN INFORMACIÓN</td>\n",
       "      <td>NaN</td>\n",
       "      <td>DICIEMBRE</td>\n",
       "      <td>NORTE</td>\n",
       "      <td>ADOLESCENCIA</td>\n",
       "      <td>2020</td>\n",
       "    </tr>\n",
       "    <tr>\n",
       "      <th>2</th>\n",
       "      <td>3.0</td>\n",
       "      <td>SANTANDER</td>\n",
       "      <td>BUCARAMANGA</td>\n",
       "      <td>CABECERA MUNICIPAL</td>\n",
       "      <td>INSTITUCIÓN DE SALUD</td>\n",
       "      <td>680000000000</td>\n",
       "      <td>UNIDAD MATERNO INFANTIL SANTA TERESITA</td>\n",
       "      <td>MASCULINO</td>\n",
       "      <td>2890</td>\n",
       "      <td>47</td>\n",
       "      <td>...</td>\n",
       "      <td>SUBSIDIADO</td>\n",
       "      <td>ENTIDAD PROMOTORA DE SALUD SUBSIDIADO</td>\n",
       "      <td>LA NUEVA EPS S.A.-CM</td>\n",
       "      <td>17.0</td>\n",
       "      <td>BÁSICA SECUNDARIA</td>\n",
       "      <td>7.0</td>\n",
       "      <td>SEPTIEMBRE</td>\n",
       "      <td>NORTE</td>\n",
       "      <td>ADOLESCENCIA</td>\n",
       "      <td>2020</td>\n",
       "    </tr>\n",
       "    <tr>\n",
       "      <th>3</th>\n",
       "      <td>4.0</td>\n",
       "      <td>SANTANDER</td>\n",
       "      <td>BUCARAMANGA</td>\n",
       "      <td>CABECERA MUNICIPAL</td>\n",
       "      <td>INSTITUCIÓN DE SALUD</td>\n",
       "      <td>680000000000</td>\n",
       "      <td>HOSPITAL LOCAL DEL NORTE</td>\n",
       "      <td>FEMENINO</td>\n",
       "      <td>2750</td>\n",
       "      <td>48</td>\n",
       "      <td>...</td>\n",
       "      <td>SUBSIDIADO</td>\n",
       "      <td>ENTIDAD PROMOTORA DE SALUD SUBSIDIADO</td>\n",
       "      <td>COOSALUD E.S.S. -  ARS COOPERATIVA EMPRESA SOL...</td>\n",
       "      <td>27.0</td>\n",
       "      <td>PROFESIONAL</td>\n",
       "      <td>5.0</td>\n",
       "      <td>AGOSTO</td>\n",
       "      <td>SIN IDENTIFICAR</td>\n",
       "      <td>ADOLESCENCIA</td>\n",
       "      <td>2020</td>\n",
       "    </tr>\n",
       "    <tr>\n",
       "      <th>4</th>\n",
       "      <td>5.0</td>\n",
       "      <td>SANTANDER</td>\n",
       "      <td>BUCARAMANGA</td>\n",
       "      <td>CABECERA MUNICIPAL</td>\n",
       "      <td>INSTITUCIÓN DE SALUD</td>\n",
       "      <td>680000000000</td>\n",
       "      <td>HOSPITAL LOCAL DEL NORTE</td>\n",
       "      <td>FEMENINO</td>\n",
       "      <td>3400</td>\n",
       "      <td>46</td>\n",
       "      <td>...</td>\n",
       "      <td>SUBSIDIADO</td>\n",
       "      <td>ENTIDAD PROMOTORA DE SALUD SUBSIDIADO</td>\n",
       "      <td>COOSALUD E.S.S. -  ARS COOPERATIVA EMPRESA SOL...</td>\n",
       "      <td>15.0</td>\n",
       "      <td>BÁSICA PRIMARIA</td>\n",
       "      <td>5.0</td>\n",
       "      <td>MAYO</td>\n",
       "      <td>SIN IDENTIFICAR</td>\n",
       "      <td>ADOLESCENCIA</td>\n",
       "      <td>2020</td>\n",
       "    </tr>\n",
       "  </tbody>\n",
       "</table>\n",
       "<p>5 rows × 40 columns</p>\n",
       "</div>"
      ],
      "text/plain": [
       "   identificador DEPARTAMENTO    MUNICIPIO     AREA NACIMIENTO  \\\n",
       "0            1.0    SANTANDER  BUCARAMANGA  CABECERA MUNICIPAL   \n",
       "1            2.0    SANTANDER  BUCARAMANGA  CABECERA MUNICIPAL   \n",
       "2            3.0    SANTANDER  BUCARAMANGA  CABECERA MUNICIPAL   \n",
       "3            4.0    SANTANDER  BUCARAMANGA  CABECERA MUNICIPAL   \n",
       "4            5.0    SANTANDER  BUCARAMANGA  CABECERA MUNICIPAL   \n",
       "\n",
       "       SITIO NACIMIENTO  CÓDIGO INSTITUCIÓN  \\\n",
       "0  INSTITUCIÓN DE SALUD        680010000000   \n",
       "1  INSTITUCIÓN DE SALUD        680000000000   \n",
       "2  INSTITUCIÓN DE SALUD        680000000000   \n",
       "3  INSTITUCIÓN DE SALUD        680000000000   \n",
       "4  INSTITUCIÓN DE SALUD        680000000000   \n",
       "\n",
       "                       NOMBRE INSTITUCIÓN       SEXO  PESO (Gramos)  \\\n",
       "0                HOSPITAL LOCAL DEL NORTE   FEMENINO           3430   \n",
       "1                HOSPITAL LOCAL DEL NORTE  MASCULINO           3300   \n",
       "2  UNIDAD MATERNO INFANTIL SANTA TERESITA  MASCULINO           2890   \n",
       "3                HOSPITAL LOCAL DEL NORTE   FEMENINO           2750   \n",
       "4                HOSPITAL LOCAL DEL NORTE   FEMENINO           3400   \n",
       "\n",
       "   TALLA (Centímetros)  ... RÉGIMEN SEGURIDAD  \\\n",
       "0                   51  ...        SUBSIDIADO   \n",
       "1                   50  ...        SUBSIDIADO   \n",
       "2                   47  ...        SUBSIDIADO   \n",
       "3                   48  ...        SUBSIDIADO   \n",
       "4                   46  ...        SUBSIDIADO   \n",
       "\n",
       "                     TIPO ADMINISTRADORA  \\\n",
       "0  ENTIDAD PROMOTORA DE SALUD SUBSIDIADO   \n",
       "1  ENTIDAD PROMOTORA DE SALUD SUBSIDIADO   \n",
       "2  ENTIDAD PROMOTORA DE SALUD SUBSIDIADO   \n",
       "3  ENTIDAD PROMOTORA DE SALUD SUBSIDIADO   \n",
       "4  ENTIDAD PROMOTORA DE SALUD SUBSIDIADO   \n",
       "\n",
       "                               NOMBRE ADMINISTRADORA    ED  \\\n",
       "0  COOSALUD E.S.S. -  ARS COOPERATIVA EMPRESA SOL...  15.0   \n",
       "1  COOSALUD E.S.S. -  ARS COOPERATIVA EMPRESA SOL...  20.0   \n",
       "2                               LA NUEVA EPS S.A.-CM  17.0   \n",
       "3  COOSALUD E.S.S. -  ARS COOPERATIVA EMPRESA SOL...  27.0   \n",
       "4  COOSALUD E.S.S. -  ARS COOPERATIVA EMPRESA SOL...  15.0   \n",
       "\n",
       "  NIVEL EDUCATIVO PADRE ULTIMO AÑO APROBADO PADRE         MES  \\\n",
       "0       SIN INFORMACIÓN                       NaN       MARZO   \n",
       "1       SIN INFORMACIÓN                       NaN   DICIEMBRE   \n",
       "2     BÁSICA SECUNDARIA                       7.0  SEPTIEMBRE   \n",
       "3           PROFESIONAL                       5.0      AGOSTO   \n",
       "4       BÁSICA PRIMARIA                       5.0        MAYO   \n",
       "\n",
       "     NOMBRE COMUNA CURSO DE VIDA MADRE  AÑO REPORTE  \n",
       "0            NORTE        ADOLESCENCIA         2020  \n",
       "1            NORTE        ADOLESCENCIA         2020  \n",
       "2            NORTE        ADOLESCENCIA         2020  \n",
       "3  SIN IDENTIFICAR        ADOLESCENCIA         2020  \n",
       "4  SIN IDENTIFICAR        ADOLESCENCIA         2020  \n",
       "\n",
       "[5 rows x 40 columns]"
      ]
     },
     "execution_count": 23,
     "metadata": {},
     "output_type": "execute_result"
    }
   ],
   "source": [
    "# Importamos los datos de los insitutos de salud de Bucaramanga\n",
    "isb_DF = pd.read_csv(\"NACIMIENTOS_EN_INSTITUTOS__DE_SALUD_DE_BUCARAMANGA_20231109.csv\")\n",
    "\n",
    "isb_DF.head()"
   ]
  },
  {
   "cell_type": "markdown",
   "metadata": {},
   "source": [
    "Mientras que el de los institudos de salud de Bucaramanga (ISB) tiene 40 columnas. Casi que el doble.\n",
    "\n",
    "Algo que resalta inmediatamente es la presentación de los datos. La información en ambos casos es presentada toda en mayúsculas, sugiriendo la posibilidad de que hay estándares establecidos para la forma en la que se crean conjuntos de datos en el sector de la salud. Alternativamente, los datasets pudieron ser creados por la misma entidad, o también puede ser que esto se deba a las herramientas de software que usan estas organizaciones. Se indagaron los proveedores de los conjuntos de datos para cada caso (fuente: datos.gov.co):\n",
    "- Dataset ISB: Subcientifica \n",
    "- Dataset HGM: Hospital General de Medellín.\n",
    "\n",
    "Por lo que podemos descartar un solo proveedor para ambos datasets. Por ahora la duda se mantendrá.\n",
    "\n",
    "Continuando con la exploración de datos, ahora vemos más a fondo las propiedades de cada conjunto de datos. Tamaños de los dataframes, nombres y tipos de columnas y descripción estádistica de cada atributo."
   ]
  },
  {
   "cell_type": "code",
   "execution_count": 24,
   "metadata": {},
   "outputs": [
    {
     "data": {
      "text/plain": [
       "(92297, 40)"
      ]
     },
     "execution_count": 24,
     "metadata": {},
     "output_type": "execute_result"
    }
   ],
   "source": [
    "# Tamaño del dataset de los ISB\n",
    "isb_DF.shape"
   ]
  },
  {
   "cell_type": "code",
   "execution_count": 25,
   "metadata": {},
   "outputs": [
    {
     "data": {
      "text/plain": [
       "Index(['identificador', 'DEPARTAMENTO', 'MUNICIPIO', 'AREA NACIMIENTO',\n",
       "       'SITIO NACIMIENTO', 'CÓDIGO INSTITUCIÓN', 'NOMBRE INSTITUCIÓN', 'SEXO',\n",
       "       'PESO (Gramos)', 'TALLA (Centímetros)', 'FECHA NACIMIENTO',\n",
       "       'PARTO ATENDIDO POR', 'TIEMPO DE GESTACIÓN',\n",
       "       'NÚMERO CONSULTAS PRENATALES', 'TIPO PARTO', 'FACTOR RH',\n",
       "       'PERTENENCIA ÉTNICA', 'GRUPO INDIGENA', 'TIPO DOCUMENTO MADRE',\n",
       "       'EDAD MADRE', 'ESTADO CONYUGAL MADRE', 'NIVEL EDUCATIVO MADRE',\n",
       "       'ULTIMO AÑO APROBADO MADRE', 'PAÍS RESIDENCIA',\n",
       "       'DEPARTAMENTO RESIDENCIA', 'MUNICIPIO RESIDENCIA', 'AREA RESIDENCIA',\n",
       "       'LOCALIDAD', 'NÚMERO HIJOS NACIDOS VIVOS', 'NÚMERO EMBARAZOS',\n",
       "       'RÉGIMEN SEGURIDAD', 'TIPO ADMINISTRADORA', 'NOMBRE ADMINISTRADORA',\n",
       "       'ED', 'NIVEL EDUCATIVO PADRE', 'ULTIMO AÑO APROBADO PADRE', 'MES',\n",
       "       'NOMBRE COMUNA', 'CURSO DE VIDA MADRE', 'AÑO REPORTE'],\n",
       "      dtype='object')"
      ]
     },
     "execution_count": 25,
     "metadata": {},
     "output_type": "execute_result"
    }
   ],
   "source": [
    "# Nombres de todas las columnas del dataset del ISB\n",
    "isb_DF.columns"
   ]
  },
  {
   "cell_type": "code",
   "execution_count": 26,
   "metadata": {},
   "outputs": [
    {
     "data": {
      "text/plain": [
       "identificador                  float64\n",
       "DEPARTAMENTO                    object\n",
       "MUNICIPIO                       object\n",
       "AREA NACIMIENTO                 object\n",
       "SITIO NACIMIENTO                object\n",
       "CÓDIGO INSTITUCIÓN               int64\n",
       "NOMBRE INSTITUCIÓN              object\n",
       "SEXO                            object\n",
       "PESO (Gramos)                    int64\n",
       "TALLA (Centímetros)              int64\n",
       "FECHA NACIMIENTO                object\n",
       "PARTO ATENDIDO POR              object\n",
       "TIEMPO DE GESTACIÓN            float64\n",
       "NÚMERO CONSULTAS PRENATALES      int64\n",
       "TIPO PARTO                      object\n",
       "FACTOR RH                       object\n",
       "PERTENENCIA ÉTNICA              object\n",
       "GRUPO INDIGENA                  object\n",
       "TIPO DOCUMENTO MADRE            object\n",
       "EDAD MADRE                       int64\n",
       "ESTADO CONYUGAL MADRE           object\n",
       "NIVEL EDUCATIVO MADRE           object\n",
       "ULTIMO AÑO APROBADO MADRE      float64\n",
       "PAÍS RESIDENCIA                 object\n",
       "DEPARTAMENTO RESIDENCIA         object\n",
       "MUNICIPIO RESIDENCIA            object\n",
       "AREA RESIDENCIA                 object\n",
       "LOCALIDAD                       object\n",
       "NÚMERO HIJOS NACIDOS VIVOS       int64\n",
       "NÚMERO EMBARAZOS                 int64\n",
       "RÉGIMEN SEGURIDAD               object\n",
       "TIPO ADMINISTRADORA             object\n",
       "NOMBRE ADMINISTRADORA           object\n",
       "ED                             float64\n",
       "NIVEL EDUCATIVO PADRE           object\n",
       "ULTIMO AÑO APROBADO PADRE      float64\n",
       "MES                             object\n",
       "NOMBRE COMUNA                   object\n",
       "CURSO DE VIDA MADRE             object\n",
       "AÑO REPORTE                      int64\n",
       "dtype: object"
      ]
     },
     "execution_count": 26,
     "metadata": {},
     "output_type": "execute_result"
    }
   ],
   "source": [
    "# Tipos de las columnas del dataset de los ISB\n",
    "isb_DF.dtypes"
   ]
  },
  {
   "cell_type": "code",
   "execution_count": 27,
   "metadata": {},
   "outputs": [
    {
     "data": {
      "text/plain": [
       "(4559, 24)"
      ]
     },
     "execution_count": 27,
     "metadata": {},
     "output_type": "execute_result"
    }
   ],
   "source": [
    "# Tamaño de los datos del HGM\n",
    "medellin_DF.shape"
   ]
  },
  {
   "cell_type": "code",
   "execution_count": 28,
   "metadata": {},
   "outputs": [
    {
     "data": {
      "text/plain": [
       "Index(['Ficha de información publicación datos abiertos', 'SEXO', 'Peso',\n",
       "       'Talla ', 'Parto atendido', 'Tiempo gestación ',\n",
       "       'Número consultas prenatales', 'Tipo parto', 'Mutiplicidad ', 'Apgar1',\n",
       "       'Apgar2', 'Grupo sanguíneo ', 'Factor RH', 'Pertenencia étnica ',\n",
       "       'Estado conyugal madre', 'Nivel educativo ', 'País de residencia ',\n",
       "       'Municipio ', 'Área residencia ', 'Localidad',\n",
       "       'Número hijos nacidos vivos ', 'Régimen seguridad ',\n",
       "       'Nombre administradora ', 'Nivel educativo padre'],\n",
       "      dtype='object')"
      ]
     },
     "execution_count": 28,
     "metadata": {},
     "output_type": "execute_result"
    }
   ],
   "source": [
    "# Nombres de todas las columnas del dataset del HGM\n",
    "medellin_DF.columns"
   ]
  },
  {
   "cell_type": "code",
   "execution_count": 29,
   "metadata": {},
   "outputs": [
    {
     "data": {
      "text/plain": [
       "Ficha de información publicación datos abiertos      int64\n",
       "SEXO                                                object\n",
       "Peso                                                 int64\n",
       "Talla                                                int64\n",
       "Parto atendido                                      object\n",
       "Tiempo gestación                                   float64\n",
       "Número consultas prenatales                          int64\n",
       "Tipo parto                                          object\n",
       "Mutiplicidad                                        object\n",
       "Apgar1                                             float64\n",
       "Apgar2                                             float64\n",
       "Grupo sanguíneo                                     object\n",
       "Factor RH                                           object\n",
       "Pertenencia étnica                                  object\n",
       "Estado conyugal madre                               object\n",
       "Nivel educativo                                     object\n",
       "País de residencia                                  object\n",
       "Municipio                                           object\n",
       "Área residencia                                     object\n",
       "Localidad                                           object\n",
       "Número hijos nacidos vivos                           int64\n",
       "Régimen seguridad                                   object\n",
       "Nombre administradora                               object\n",
       "Nivel educativo padre                               object\n",
       "dtype: object"
      ]
     },
     "execution_count": 29,
     "metadata": {},
     "output_type": "execute_result"
    }
   ],
   "source": [
    "# Tipos de las columnas del dataset del HGM\n",
    "medellin_DF.dtypes"
   ]
  },
  {
   "cell_type": "markdown",
   "metadata": {},
   "source": [
    "Para responder nuestras preguntas, tenemos que tener claro cuales son nuestras variables objetivo. Si bien los datasets tienen columnas distintas, muchas columnas representan la misma información. Estas variables son aquellas relacionadas con el nivel educacional de los padres del recien nacido, junto con aquellas variables que dan la información acerca del tiempo de gestación y quíen atendió el parto.\n",
    "\n",
    "A continuación se hacemos multiples estudios sobre ambos dataframes."
   ]
  },
  {
   "cell_type": "markdown",
   "metadata": {},
   "source": [
    "### Datos nulos e incompletos\n"
   ]
  },
  {
   "cell_type": "code",
   "execution_count": 34,
   "metadata": {},
   "outputs": [
    {
     "data": {
      "text/plain": [
       "identificador                    237\n",
       "DEPARTAMENTO                       0\n",
       "MUNICIPIO                          0\n",
       "AREA NACIMIENTO                    0\n",
       "SITIO NACIMIENTO                   0\n",
       "CÓDIGO INSTITUCIÓN                 0\n",
       "NOMBRE INSTITUCIÓN                 0\n",
       "SEXO                               0\n",
       "PESO (Gramos)                      0\n",
       "TALLA (Centímetros)                0\n",
       "FECHA NACIMIENTO                 216\n",
       "PARTO ATENDIDO POR                 0\n",
       "TIEMPO DE GESTACIÓN               11\n",
       "NÚMERO CONSULTAS PRENATALES        0\n",
       "TIPO PARTO                         0\n",
       "FACTOR RH                       8992\n",
       "PERTENENCIA ÉTNICA              4385\n",
       "GRUPO INDIGENA                 89997\n",
       "TIPO DOCUMENTO MADRE             907\n",
       "EDAD MADRE                         0\n",
       "ESTADO CONYUGAL MADRE              0\n",
       "NIVEL EDUCATIVO MADRE              0\n",
       "ULTIMO AÑO APROBADO MADRE       3467\n",
       "PAÍS RESIDENCIA                    1\n",
       "DEPARTAMENTO RESIDENCIA         2378\n",
       "MUNICIPIO RESIDENCIA               0\n",
       "AREA RESIDENCIA                   96\n",
       "LOCALIDAD                      65457\n",
       "NÚMERO HIJOS NACIDOS VIVOS         0\n",
       "NÚMERO EMBARAZOS                   0\n",
       "RÉGIMEN SEGURIDAD                  0\n",
       "TIPO ADMINISTRADORA            14193\n",
       "NOMBRE ADMINISTRADORA            186\n",
       "ED                               414\n",
       "NIVEL EDUCATIVO PADRE            309\n",
       "ULTIMO AÑO APROBADO PADRE       7268\n",
       "MES                             6671\n",
       "NOMBRE COMUNA                  14147\n",
       "CURSO DE VIDA MADRE                0\n",
       "AÑO REPORTE                        0\n",
       "dtype: int64"
      ]
     },
     "execution_count": 34,
     "metadata": {},
     "output_type": "execute_result"
    }
   ],
   "source": [
    "# Buscamos la cantidad de datos nulos en el dataset de los ISB\n",
    "isb_DF.isnull().sum()"
   ]
  },
  {
   "cell_type": "code",
   "execution_count": 35,
   "metadata": {},
   "outputs": [
    {
     "data": {
      "text/plain": [
       "Ficha de información publicación datos abiertos       0\n",
       "SEXO                                                  0\n",
       "Peso                                                  0\n",
       "Talla                                                 0\n",
       "Parto atendido                                        0\n",
       "Tiempo gestación                                      1\n",
       "Número consultas prenatales                           0\n",
       "Tipo parto                                            0\n",
       "Mutiplicidad                                          0\n",
       "Apgar1                                               15\n",
       "Apgar2                                               15\n",
       "Grupo sanguíneo                                      16\n",
       "Factor RH                                            16\n",
       "Pertenencia étnica                                    0\n",
       "Estado conyugal madre                                 0\n",
       "Nivel educativo                                       0\n",
       "País de residencia                                    0\n",
       "Municipio                                             0\n",
       "Área residencia                                       0\n",
       "Localidad                                          1392\n",
       "Número hijos nacidos vivos                            0\n",
       "Régimen seguridad                                     0\n",
       "Nombre administradora                               849\n",
       "Nivel educativo padre                                 0\n",
       "dtype: int64"
      ]
     },
     "execution_count": 35,
     "metadata": {},
     "output_type": "execute_result"
    }
   ],
   "source": [
    "# Buscamos la cantidad de datos nulos en el dataset del HGM\n",
    "medellin_DF.isnull().sum()"
   ]
  },
  {
   "cell_type": "markdown",
   "metadata": {},
   "source": [
    "Podemos ident"
   ]
  },
  {
   "cell_type": "markdown",
   "metadata": {},
   "source": [
    "### Dispersión de los datos\n",
    "Queremos estudiar nuestras "
   ]
  },
  {
   "cell_type": "markdown",
   "metadata": {},
   "source": [
    "### Tendencias Centrales y distribuciones"
   ]
  },
  {
   "cell_type": "markdown",
   "metadata": {},
   "source": [
    "### Correlación de Variables"
   ]
  },
  {
   "cell_type": "code",
   "execution_count": null,
   "metadata": {},
   "outputs": [],
   "source": [
    "# "
   ]
  },
  {
   "cell_type": "markdown",
   "metadata": {},
   "source": [
    "---\n",
    "# 3.B Problema"
   ]
  },
  {
   "cell_type": "markdown",
   "metadata": {},
   "source": [
    "---\n",
    "# 3.C Implementación de técnicas ML y Resultados"
   ]
  },
  {
   "cell_type": "markdown",
   "metadata": {},
   "source": [
    "# 4 Evaluación"
   ]
  },
  {
   "cell_type": "markdown",
   "metadata": {},
   "source": [
    "Data Sources:\n"
   ]
  }
 ],
 "metadata": {
  "kernelspec": {
   "display_name": "base",
   "language": "python",
   "name": "python3"
  },
  "language_info": {
   "codemirror_mode": {
    "name": "ipython",
    "version": 3
   },
   "file_extension": ".py",
   "mimetype": "text/x-python",
   "name": "python",
   "nbconvert_exporter": "python",
   "pygments_lexer": "ipython3",
   "version": "3.10.13"
  }
 },
 "nbformat": 4,
 "nbformat_minor": 2
}
