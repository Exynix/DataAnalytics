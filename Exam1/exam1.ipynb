{
 "cells": [
  {
   "cell_type": "markdown",
   "metadata": {},
   "source": [
    "# Parcial #1 - Analítica de Datos\n",
    "- *Autor:* David Santiago Barreto Mora\n",
    "- *Fecha:* 4/09/2023\n",
    "- *Profesor:* Jhon Jairo Corredor\n",
    "---"
   ]
  },
  {
   "cell_type": "markdown",
   "metadata": {},
   "source": [
    "## Punto 2 - Carga de Fuente de Datos\n",
    "### 2.b Escribir en secciones de texto del cuaderno python, brevemente la utilidad de las siguientes bibliotecas en azul:\n",
    "\n",
    "1) **Random Forest Classifier:** La biblioteca permite usar el clasificador \"Random Forest\". El clasificador es una técnica de aprendizaje de máquina que suele implementarse utilizando bibliotecas como Scikit-Learn en Python. Este es un algoritmo de Machine Learning que ajusta una serie de árboles de decisión a varias submuestras del conjunto de datos y utiliza el promediado para mejorar la precisión predictiva y controlar el sobreajuste. Su principal utilidad radica en su papel como método de aprendizaje conjunto tanto para tareas de clasificación como de regresión. Random Forest funciona según el principio de construir múltiples árboles de decisión durante el entrenamiento y combinar sus resultados para mejorar el rendimiento predictivo general. Para tareas de clasificación, asigna una etiqueta de clase a los datos de entrada sumando el voto mayoritario de los árboles de decisión que lo componen. \n",
    "\n",
    "2) **Stochastic Gradient Descent Classifier:** El Clasificador de Descenso Gradiente Estocástico (SGD) es un algoritmo de optimización de aprendizaje automático empleado en varias bibliotecas, incluyendo Scikit-Learn. Su principal utilidad gira en torno a la optimización, específicamente para el entrenamiento de modelos de clasificación. Este algoritmo de optimización encuentra los valores de los parámetros de una función que minimiza una función de coste. Puede ajustarse a clasificadores lineales con funciones de pérdida convexas, como SVM y regresión logística. Es eficaz y fácil de aplicar, pero requiere ajustar algunos hiperparámetros y el escalado de características.\n",
    "\n",
    "3) **Support Vector Classifier (SVC):** El clasificador de vectores de soporte (SVC) es otra herramienta de machine learning que suele estar disponible en bibliotecas como Scikit-Learn. Su principal utilidad reside en las tareas de clasificación supervisada binaria y multiclase. El SVC trata de encontrar un hiperplano que separe eficazmente los puntos de datos en clases distintas al tiempo que maximiza el margen entre estas clases. Este énfasis en la maximización del margen hace que el SVC sea robusto a los valores atípicos y adecuado para escenarios en los que es esencial una clara separación de clases. Además, el SVC puede emplear varias funciones de núcleo, como núcleos lineales, polinómicos o de función de base radial, para manejar límites de decisión complejos y no lineales. Además, el SVC ofrece parámetros de regularización que permiten encontrar un equilibrio entre la consecución de un margen más amplio y la minimización de los errores de clasificación, lo que lo hace versátil a la hora de abordar diversos retos de clasificación. Es eficaz en espacios de alta dimensión, pero puede ser lento en grandes conjuntos de datos.\n"
   ]
  },
  {
   "cell_type": "markdown",
   "metadata": {},
   "source": [
    "### 2.c Importar al cuaderno las bibliotecas anteriores"
   ]
  },
  {
   "cell_type": "code",
   "execution_count": 25,
   "metadata": {},
   "outputs": [],
   "source": [
    "# We import the 3 libraries mentioned\n",
    "from sklearn import svm\n",
    "from sklearn.ensemble import RandomForestClassifier\n",
    "from sklearn.linear_model import SGDClassifier\n",
    "\n",
    "# Also we import libraries that are essential to data manipulation and visualization\n",
    "# Data manipulation \n",
    "import pandas as pd\n",
    "\n",
    "# Data visualization\n",
    "import seaborn as sns\n",
    "import matplotlib as plt\n",
    "import matplotlib.pyplot as plt"
   ]
  },
  {
   "cell_type": "markdown",
   "metadata": {},
   "source": [
    "### 2.d Cargar desde el ENLACE , a objeto dataframe el fichero csv de calidad del vino."
   ]
  },
  {
   "cell_type": "code",
   "execution_count": 21,
   "metadata": {},
   "outputs": [
    {
     "data": {
      "text/html": [
       "<div>\n",
       "<style scoped>\n",
       "    .dataframe tbody tr th:only-of-type {\n",
       "        vertical-align: middle;\n",
       "    }\n",
       "\n",
       "    .dataframe tbody tr th {\n",
       "        vertical-align: top;\n",
       "    }\n",
       "\n",
       "    .dataframe thead th {\n",
       "        text-align: right;\n",
       "    }\n",
       "</style>\n",
       "<table border=\"1\" class=\"dataframe\">\n",
       "  <thead>\n",
       "    <tr style=\"text-align: right;\">\n",
       "      <th></th>\n",
       "      <th>fixed acidity</th>\n",
       "      <th>volatile acidity</th>\n",
       "      <th>citric acid</th>\n",
       "      <th>residual sugar</th>\n",
       "      <th>chlorides</th>\n",
       "      <th>free sulfur dioxide</th>\n",
       "      <th>total sulfur dioxide</th>\n",
       "      <th>density</th>\n",
       "      <th>pH</th>\n",
       "      <th>sulphates</th>\n",
       "      <th>alcohol</th>\n",
       "      <th>quality</th>\n",
       "    </tr>\n",
       "  </thead>\n",
       "  <tbody>\n",
       "    <tr>\n",
       "      <th>0</th>\n",
       "      <td>7.4</td>\n",
       "      <td>0.70</td>\n",
       "      <td>0.00</td>\n",
       "      <td>1.9</td>\n",
       "      <td>0.076</td>\n",
       "      <td>11.0</td>\n",
       "      <td>34.0</td>\n",
       "      <td>0.9978</td>\n",
       "      <td>3.51</td>\n",
       "      <td>0.56</td>\n",
       "      <td>9.4</td>\n",
       "      <td>5</td>\n",
       "    </tr>\n",
       "    <tr>\n",
       "      <th>1</th>\n",
       "      <td>7.8</td>\n",
       "      <td>0.88</td>\n",
       "      <td>0.00</td>\n",
       "      <td>2.6</td>\n",
       "      <td>0.098</td>\n",
       "      <td>25.0</td>\n",
       "      <td>67.0</td>\n",
       "      <td>0.9968</td>\n",
       "      <td>3.20</td>\n",
       "      <td>0.68</td>\n",
       "      <td>9.8</td>\n",
       "      <td>5</td>\n",
       "    </tr>\n",
       "    <tr>\n",
       "      <th>2</th>\n",
       "      <td>7.8</td>\n",
       "      <td>0.76</td>\n",
       "      <td>0.04</td>\n",
       "      <td>2.3</td>\n",
       "      <td>0.092</td>\n",
       "      <td>15.0</td>\n",
       "      <td>54.0</td>\n",
       "      <td>0.9970</td>\n",
       "      <td>3.26</td>\n",
       "      <td>0.65</td>\n",
       "      <td>9.8</td>\n",
       "      <td>5</td>\n",
       "    </tr>\n",
       "    <tr>\n",
       "      <th>3</th>\n",
       "      <td>11.2</td>\n",
       "      <td>0.28</td>\n",
       "      <td>0.56</td>\n",
       "      <td>1.9</td>\n",
       "      <td>0.075</td>\n",
       "      <td>17.0</td>\n",
       "      <td>60.0</td>\n",
       "      <td>0.9980</td>\n",
       "      <td>3.16</td>\n",
       "      <td>0.58</td>\n",
       "      <td>9.8</td>\n",
       "      <td>6</td>\n",
       "    </tr>\n",
       "    <tr>\n",
       "      <th>4</th>\n",
       "      <td>7.4</td>\n",
       "      <td>0.70</td>\n",
       "      <td>0.00</td>\n",
       "      <td>1.9</td>\n",
       "      <td>0.076</td>\n",
       "      <td>11.0</td>\n",
       "      <td>34.0</td>\n",
       "      <td>0.9978</td>\n",
       "      <td>3.51</td>\n",
       "      <td>0.56</td>\n",
       "      <td>9.4</td>\n",
       "      <td>5</td>\n",
       "    </tr>\n",
       "  </tbody>\n",
       "</table>\n",
       "</div>"
      ],
      "text/plain": [
       "   fixed acidity  volatile acidity  citric acid  residual sugar  chlorides  \\\n",
       "0            7.4              0.70         0.00             1.9      0.076   \n",
       "1            7.8              0.88         0.00             2.6      0.098   \n",
       "2            7.8              0.76         0.04             2.3      0.092   \n",
       "3           11.2              0.28         0.56             1.9      0.075   \n",
       "4            7.4              0.70         0.00             1.9      0.076   \n",
       "\n",
       "   free sulfur dioxide  total sulfur dioxide  density    pH  sulphates  \\\n",
       "0                 11.0                  34.0   0.9978  3.51       0.56   \n",
       "1                 25.0                  67.0   0.9968  3.20       0.68   \n",
       "2                 15.0                  54.0   0.9970  3.26       0.65   \n",
       "3                 17.0                  60.0   0.9980  3.16       0.58   \n",
       "4                 11.0                  34.0   0.9978  3.51       0.56   \n",
       "\n",
       "   alcohol  quality  \n",
       "0      9.4        5  \n",
       "1      9.8        5  \n",
       "2      9.8        5  \n",
       "3      9.8        6  \n",
       "4      9.4        5  "
      ]
     },
     "execution_count": 21,
     "metadata": {},
     "output_type": "execute_result"
    }
   ],
   "source": [
    "# Usamos la URL para cargar el CSV, y posteriormente usarlo para crear el dataframe.\n",
    "url = \"https://raw.githubusercontent.com/corredor-john/ExploratoryDataAnalisys/main/Varios/winequality-red.csv\"\n",
    "wineDF = pd.read_csv(url, header=0, sep=\";\")\n",
    "\n",
    "wineDF.head()"
   ]
  },
  {
   "cell_type": "markdown",
   "metadata": {},
   "source": [
    "### 2.e Presentar información sobre las columnas de los datos de la calidad del vino.\n",
    "Usamos los atributos '.shape' y '.columns', junto con la función '.info()' para presentar la información esencial del dataframe. Nombres de las columnas, tipo de dato de las columns y tamaño del dataframe."
   ]
  },
  {
   "cell_type": "code",
   "execution_count": 22,
   "metadata": {},
   "outputs": [
    {
     "name": "stdout",
     "output_type": "stream",
     "text": [
      "Nombres de columnas:\n",
      "Index(['fixed acidity', 'volatile acidity', 'citric acid', 'residual sugar',\n",
      "       'chlorides', 'free sulfur dioxide', 'total sulfur dioxide', 'density',\n",
      "       'pH', 'sulphates', 'alcohol', 'quality'],\n",
      "      dtype='object')\n",
      "\n",
      " Informacion sobre las columnas:\n",
      "<class 'pandas.core.frame.DataFrame'>\n",
      "RangeIndex: 1599 entries, 0 to 1598\n",
      "Data columns (total 12 columns):\n",
      " #   Column                Non-Null Count  Dtype  \n",
      "---  ------                --------------  -----  \n",
      " 0   fixed acidity         1599 non-null   float64\n",
      " 1   volatile acidity      1599 non-null   float64\n",
      " 2   citric acid           1599 non-null   float64\n",
      " 3   residual sugar        1599 non-null   float64\n",
      " 4   chlorides             1599 non-null   float64\n",
      " 5   free sulfur dioxide   1599 non-null   float64\n",
      " 6   total sulfur dioxide  1599 non-null   float64\n",
      " 7   density               1599 non-null   float64\n",
      " 8   pH                    1599 non-null   float64\n",
      " 9   sulphates             1599 non-null   float64\n",
      " 10  alcohol               1599 non-null   float64\n",
      " 11  quality               1599 non-null   int64  \n",
      "dtypes: float64(11), int64(1)\n",
      "memory usage: 150.0 KB\n",
      "None\n",
      "\n",
      " Tamaño del dataframe (filas, columnas):\n",
      "(1599, 12)\n"
     ]
    }
   ],
   "source": [
    "print(\"Nombres de columnas:\")\n",
    "print(wineDF.columns)\n",
    "\n",
    "print(\"\\n Informacion sobre las columnas:\")\n",
    "print(wineDF.info())\n",
    "\n",
    "print(\"\\n Tamaño del dataframe (filas, columnas):\")\n",
    "print(wineDF.shape)"
   ]
  },
  {
   "cell_type": "markdown",
   "metadata": {},
   "source": [
    "Ahora renombramos las columnas para facilitar el tratamiento de datos y seguir las buenas prácticas vistas hasta el momento. Todas las columnas cuyo nombre este compuesto por múltiples columnas seran cambiadas a camelCase, y se quitan todos los espacios."
   ]
  },
  {
   "cell_type": "code",
   "execution_count": 23,
   "metadata": {},
   "outputs": [
    {
     "data": {
      "text/html": [
       "<div>\n",
       "<style scoped>\n",
       "    .dataframe tbody tr th:only-of-type {\n",
       "        vertical-align: middle;\n",
       "    }\n",
       "\n",
       "    .dataframe tbody tr th {\n",
       "        vertical-align: top;\n",
       "    }\n",
       "\n",
       "    .dataframe thead th {\n",
       "        text-align: right;\n",
       "    }\n",
       "</style>\n",
       "<table border=\"1\" class=\"dataframe\">\n",
       "  <thead>\n",
       "    <tr style=\"text-align: right;\">\n",
       "      <th></th>\n",
       "      <th>fixedAcidity</th>\n",
       "      <th>volatileAcidity</th>\n",
       "      <th>citricAcid</th>\n",
       "      <th>residualSugar</th>\n",
       "      <th>chlorides</th>\n",
       "      <th>freeSulfurDioxide</th>\n",
       "      <th>totalSulfurDioxide</th>\n",
       "      <th>density</th>\n",
       "      <th>pH</th>\n",
       "      <th>sulphates</th>\n",
       "      <th>alcohol</th>\n",
       "      <th>quality</th>\n",
       "    </tr>\n",
       "  </thead>\n",
       "  <tbody>\n",
       "    <tr>\n",
       "      <th>0</th>\n",
       "      <td>7.4</td>\n",
       "      <td>0.70</td>\n",
       "      <td>0.00</td>\n",
       "      <td>1.9</td>\n",
       "      <td>0.076</td>\n",
       "      <td>11.0</td>\n",
       "      <td>34.0</td>\n",
       "      <td>0.9978</td>\n",
       "      <td>3.51</td>\n",
       "      <td>0.56</td>\n",
       "      <td>9.4</td>\n",
       "      <td>5</td>\n",
       "    </tr>\n",
       "    <tr>\n",
       "      <th>1</th>\n",
       "      <td>7.8</td>\n",
       "      <td>0.88</td>\n",
       "      <td>0.00</td>\n",
       "      <td>2.6</td>\n",
       "      <td>0.098</td>\n",
       "      <td>25.0</td>\n",
       "      <td>67.0</td>\n",
       "      <td>0.9968</td>\n",
       "      <td>3.20</td>\n",
       "      <td>0.68</td>\n",
       "      <td>9.8</td>\n",
       "      <td>5</td>\n",
       "    </tr>\n",
       "    <tr>\n",
       "      <th>2</th>\n",
       "      <td>7.8</td>\n",
       "      <td>0.76</td>\n",
       "      <td>0.04</td>\n",
       "      <td>2.3</td>\n",
       "      <td>0.092</td>\n",
       "      <td>15.0</td>\n",
       "      <td>54.0</td>\n",
       "      <td>0.9970</td>\n",
       "      <td>3.26</td>\n",
       "      <td>0.65</td>\n",
       "      <td>9.8</td>\n",
       "      <td>5</td>\n",
       "    </tr>\n",
       "    <tr>\n",
       "      <th>3</th>\n",
       "      <td>11.2</td>\n",
       "      <td>0.28</td>\n",
       "      <td>0.56</td>\n",
       "      <td>1.9</td>\n",
       "      <td>0.075</td>\n",
       "      <td>17.0</td>\n",
       "      <td>60.0</td>\n",
       "      <td>0.9980</td>\n",
       "      <td>3.16</td>\n",
       "      <td>0.58</td>\n",
       "      <td>9.8</td>\n",
       "      <td>6</td>\n",
       "    </tr>\n",
       "    <tr>\n",
       "      <th>4</th>\n",
       "      <td>7.4</td>\n",
       "      <td>0.70</td>\n",
       "      <td>0.00</td>\n",
       "      <td>1.9</td>\n",
       "      <td>0.076</td>\n",
       "      <td>11.0</td>\n",
       "      <td>34.0</td>\n",
       "      <td>0.9978</td>\n",
       "      <td>3.51</td>\n",
       "      <td>0.56</td>\n",
       "      <td>9.4</td>\n",
       "      <td>5</td>\n",
       "    </tr>\n",
       "  </tbody>\n",
       "</table>\n",
       "</div>"
      ],
      "text/plain": [
       "   fixedAcidity  volatileAcidity  citricAcid  residualSugar  chlorides  \\\n",
       "0           7.4             0.70        0.00            1.9      0.076   \n",
       "1           7.8             0.88        0.00            2.6      0.098   \n",
       "2           7.8             0.76        0.04            2.3      0.092   \n",
       "3          11.2             0.28        0.56            1.9      0.075   \n",
       "4           7.4             0.70        0.00            1.9      0.076   \n",
       "\n",
       "   freeSulfurDioxide  totalSulfurDioxide  density    pH  sulphates  alcohol  \\\n",
       "0               11.0                34.0   0.9978  3.51       0.56      9.4   \n",
       "1               25.0                67.0   0.9968  3.20       0.68      9.8   \n",
       "2               15.0                54.0   0.9970  3.26       0.65      9.8   \n",
       "3               17.0                60.0   0.9980  3.16       0.58      9.8   \n",
       "4               11.0                34.0   0.9978  3.51       0.56      9.4   \n",
       "\n",
       "   quality  \n",
       "0        5  \n",
       "1        5  \n",
       "2        5  \n",
       "3        6  \n",
       "4        5  "
      ]
     },
     "execution_count": 23,
     "metadata": {},
     "output_type": "execute_result"
    }
   ],
   "source": [
    "# we rename all columns that have spaces or multiple words\n",
    "newColumns = {\n",
    "    'fixed acidity': 'fixedAcidity',\n",
    "    'volatile acidity': 'volatileAcidity',\n",
    "    'citric acid': 'citricAcid',\n",
    "    'residual sugar': 'residualSugar',\n",
    "    'chlorides': 'chlorides',\n",
    "    'free sulfur dioxide': 'freeSulfurDioxide',\n",
    "    'total sulfur dioxide': 'totalSulfurDioxide',\n",
    "    'density': 'density',\n",
    "    'pH': 'pH',\n",
    "    'sulphates': 'sulphates',\n",
    "    'alcohol': 'alcohol',\n",
    "    'quality': 'quality'\n",
    "}\n",
    "\n",
    "wineDF.rename (columns= newColumns, inplace=True)\n",
    "wineDF.head()"
   ]
  },
  {
   "cell_type": "markdown",
   "metadata": {},
   "source": [
    "### 2.f Presentar gráficas de barras sobre la calidad del vino en relación con las demás columnas:\n",
    "A continuación se presentan 9 gráficas, las cuales comparan el atributo 'quality' contra el atributo especificado. Esto se repite para todas las columnas del dataframe, menos 'ph', la cual no es mencionada en el enunciado.\n",
    "\n",
    "Para cada gráfica, se hacen los siguientes procedimientos:\n",
    "1. Calculamos la calidad media para cada valor único del atributo utilizando groupby y mean().\n",
    "\n",
    "2. A continuación, creamos gráficos de barras con kind='bar' para representar la calidad media de cada valor del atributo.\n",
    "\n",
    "3. Definimos 'num_values_to_display' para limitar el número de valores únicos mostrados en el eje x (valores únicos de cada columna).\n",
    "\n",
    "4. Seleccionamos los valores únicos superiores de 'num_values_to_display' del atributo con los recuentos más altos."
   ]
  },
  {
   "cell_type": "code",
   "execution_count": 27,
   "metadata": {},
   "outputs": [
    {
     "ename": "IndexError",
     "evalue": "index 3 is out of bounds for axis 0 with size 3",
     "output_type": "error",
     "traceback": [
      "\u001b[0;31m---------------------------------------------------------------------------\u001b[0m",
      "\u001b[0;31mIndexError\u001b[0m                                Traceback (most recent call last)",
      "Cell \u001b[0;32mIn[27], line 15\u001b[0m\n\u001b[1;32m     13\u001b[0m \u001b[39mfor\u001b[39;00m i, attribute \u001b[39min\u001b[39;00m \u001b[39menumerate\u001b[39m(attributes):\n\u001b[1;32m     14\u001b[0m     row, col \u001b[39m=\u001b[39m \u001b[39mdivmod\u001b[39m(i, \u001b[39m3\u001b[39m)\n\u001b[0;32m---> 15\u001b[0m     ax \u001b[39m=\u001b[39m axes[row, col]\n\u001b[1;32m     17\u001b[0m     \u001b[39m# Calculate the mean quality for the top 'num_values_to_display' unique values of the attribute\u001b[39;00m\n\u001b[1;32m     18\u001b[0m     top_values \u001b[39m=\u001b[39m wineDF[attribute]\u001b[39m.\u001b[39mvalue_counts()\u001b[39m.\u001b[39mnlargest(num_values_to_display)\u001b[39m.\u001b[39mindex\n",
      "\u001b[0;31mIndexError\u001b[0m: index 3 is out of bounds for axis 0 with size 3"
     ]
    },
    {
     "data": {
      "image/png": "[encoded data removed]",
      "text/plain": [
       "<Figure size 1500x1000 with 9 Axes>"
      ]
     },
     "metadata": {},
     "output_type": "display_data"
    }
   ],
   "source": [
    "# Exclude the 'pH' column\n",
    "attributes = ['fixedAcidity', 'volatileAcidity', 'citricAcid', 'residualSugar', 'chlorides',\n",
    "              'freeSulfurDioxide', 'totalSulfurDioxide', 'density', 'sulphates', 'alcohol']\n",
    "\n",
    "# Define the number of unique values to display on the x-axis (adjust as needed)\n",
    "num_values_to_display = 10\n",
    "\n",
    "# Create subplots with 3 rows and 3 columns\n",
    "fig, axes = plt.subplots(nrows=3, ncols=3, figsize=(15, 10))\n",
    "fig.subplots_adjust(hspace=0.5)\n",
    "\n",
    "# Iterate through attributes and create bar charts\n",
    "for i, attribute in enumerate(attributes):\n",
    "    row, col = divmod(i, 3)\n",
    "    ax = axes[row, col]\n",
    "    \n",
    "    # Calculate the mean quality for the top 'num_values_to_display' unique values of the attribute\n",
    "    top_values = wineDF[attribute].value_counts().nlargest(num_values_to_display).index\n",
    "    attribute_quality = wineDF[wineDF[attribute].isin(top_values)].groupby(attribute)['quality'].mean()\n",
    "    \n",
    "    # Plot the bar chart\n",
    "    attribute_quality.plot(kind='bar', ax=ax)\n",
    "    ax.set_xlabel(attribute)\n",
    "    ax.set_ylabel('Mean Quality')\n",
    "    ax.set_title(f'Mean Quality vs {attribute}')\n",
    "    \n",
    "    # Set x-tick labels for selected values\n",
    "    ax.set_xticklabels([round(val, 2) for val in top_values], rotation=45)\n",
    "\n",
    "# Display the plots\n",
    "plt.tight_layout()\n",
    "plt.show()\n",
    "\n",
    "\n"
   ]
  },
  {
   "cell_type": "markdown",
   "metadata": {},
   "source": [
    "---\n",
    "\n",
    "### 2.g Pre procesamiento de datos para la Aplicación de algoritmos de Machine Learning\n",
    "#### 1. Hacer una clasificación binaria de la variable respuesta (“calidad”): dividir el vino en bueno y malo dando el límite para la calidad\n",
    "La clasificación es hecha con las indicaciones escritas abajo.\n",
    "- clases = (2, 6.5, 8)\n",
    "\n",
    "- grupos_nombres = [‘malo’, ‘bueno’ ]\n",
    "\n",
    "- vino[‘quality’] = pd.cut(vino[‘quality’], bins = clases, labels = grupos_nombres) \n",
    "\n",
    "- calidad_etiqueta = LabelEnconder( )\n",
    "\n",
    "- Mal vino es cero, buen vino es uno\n",
    "\n",
    "- vino[‘quality’] = calidad_etiqueta.fit_transform(vino[‘quality’])"
   ]
  },
  {
   "cell_type": "code",
   "execution_count": 30,
   "metadata": {},
   "outputs": [
    {
     "ename": "TypeError",
     "evalue": "'<' not supported between instances of 'float' and 'str'",
     "output_type": "error",
     "traceback": [
      "\u001b[0;31m---------------------------------------------------------------------------\u001b[0m",
      "\u001b[0;31mTypeError\u001b[0m                                 Traceback (most recent call last)",
      "Cell \u001b[0;32mIn[30], line 3\u001b[0m\n\u001b[1;32m      1\u001b[0m clases \u001b[39m=\u001b[39m (\u001b[39m2\u001b[39m, \u001b[39m6.5\u001b[39m, \u001b[39m8\u001b[39m)\n\u001b[1;32m      2\u001b[0m grupos_nombres \u001b[39m=\u001b[39m [\u001b[39m'\u001b[39m\u001b[39mmalo\u001b[39m\u001b[39m'\u001b[39m, \u001b[39m'\u001b[39m\u001b[39mbueno\u001b[39m\u001b[39m'\u001b[39m]\n\u001b[0;32m----> 3\u001b[0m wineDF[\u001b[39m'\u001b[39m\u001b[39mquality\u001b[39m\u001b[39m'\u001b[39m] \u001b[39m=\u001b[39m pd\u001b[39m.\u001b[39;49mcut(wineDF[\u001b[39m'\u001b[39;49m\u001b[39mquality\u001b[39;49m\u001b[39m'\u001b[39;49m], bins\u001b[39m=\u001b[39;49mclases, labels\u001b[39m=\u001b[39;49mgrupos_nombres)\n\u001b[1;32m      6\u001b[0m \u001b[39mfrom\u001b[39;00m \u001b[39msklearn\u001b[39;00m\u001b[39m.\u001b[39;00m\u001b[39mpreprocessing\u001b[39;00m \u001b[39mimport\u001b[39;00m LabelEncoder\n\u001b[1;32m      7\u001b[0m calidad_etiqueta \u001b[39m=\u001b[39m LabelEncoder()\n",
      "File \u001b[0;32m~/anaconda3/lib/python3.10/site-packages/pandas/core/reshape/tile.py:293\u001b[0m, in \u001b[0;36mcut\u001b[0;34m(x, bins, right, labels, retbins, precision, include_lowest, duplicates, ordered)\u001b[0m\n\u001b[1;32m    290\u001b[0m     \u001b[39mif\u001b[39;00m (np\u001b[39m.\u001b[39mdiff(bins\u001b[39m.\u001b[39mastype(\u001b[39m\"\u001b[39m\u001b[39mfloat64\u001b[39m\u001b[39m\"\u001b[39m)) \u001b[39m<\u001b[39m \u001b[39m0\u001b[39m)\u001b[39m.\u001b[39many():\n\u001b[1;32m    291\u001b[0m         \u001b[39mraise\u001b[39;00m \u001b[39mValueError\u001b[39;00m(\u001b[39m\"\u001b[39m\u001b[39mbins must increase monotonically.\u001b[39m\u001b[39m\"\u001b[39m)\n\u001b[0;32m--> 293\u001b[0m fac, bins \u001b[39m=\u001b[39m _bins_to_cuts(\n\u001b[1;32m    294\u001b[0m     x,\n\u001b[1;32m    295\u001b[0m     bins,\n\u001b[1;32m    296\u001b[0m     right\u001b[39m=\u001b[39;49mright,\n\u001b[1;32m    297\u001b[0m     labels\u001b[39m=\u001b[39;49mlabels,\n\u001b[1;32m    298\u001b[0m     precision\u001b[39m=\u001b[39;49mprecision,\n\u001b[1;32m    299\u001b[0m     include_lowest\u001b[39m=\u001b[39;49minclude_lowest,\n\u001b[1;32m    300\u001b[0m     dtype\u001b[39m=\u001b[39;49mdtype,\n\u001b[1;32m    301\u001b[0m     duplicates\u001b[39m=\u001b[39;49mduplicates,\n\u001b[1;32m    302\u001b[0m     ordered\u001b[39m=\u001b[39;49mordered,\n\u001b[1;32m    303\u001b[0m )\n\u001b[1;32m    305\u001b[0m \u001b[39mreturn\u001b[39;00m _postprocess_for_cut(fac, bins, retbins, dtype, original)\n",
      "File \u001b[0;32m~/anaconda3/lib/python3.10/site-packages/pandas/core/reshape/tile.py:428\u001b[0m, in \u001b[0;36m_bins_to_cuts\u001b[0;34m(x, bins, right, labels, precision, include_lowest, dtype, duplicates, ordered)\u001b[0m\n\u001b[1;32m    425\u001b[0m         bins \u001b[39m=\u001b[39m unique_bins\n\u001b[1;32m    427\u001b[0m side: Literal[\u001b[39m\"\u001b[39m\u001b[39mleft\u001b[39m\u001b[39m\"\u001b[39m, \u001b[39m\"\u001b[39m\u001b[39mright\u001b[39m\u001b[39m\"\u001b[39m] \u001b[39m=\u001b[39m \u001b[39m\"\u001b[39m\u001b[39mleft\u001b[39m\u001b[39m\"\u001b[39m \u001b[39mif\u001b[39;00m right \u001b[39melse\u001b[39;00m \u001b[39m\"\u001b[39m\u001b[39mright\u001b[39m\u001b[39m\"\u001b[39m\n\u001b[0;32m--> 428\u001b[0m ids \u001b[39m=\u001b[39m ensure_platform_int(bins\u001b[39m.\u001b[39;49msearchsorted(x, side\u001b[39m=\u001b[39;49mside))\n\u001b[1;32m    430\u001b[0m \u001b[39mif\u001b[39;00m include_lowest:\n\u001b[1;32m    431\u001b[0m     ids[np\u001b[39m.\u001b[39masarray(x) \u001b[39m==\u001b[39m bins[\u001b[39m0\u001b[39m]] \u001b[39m=\u001b[39m \u001b[39m1\u001b[39m\n",
      "\u001b[0;31mTypeError\u001b[0m: '<' not supported between instances of 'float' and 'str'"
     ]
    }
   ],
   "source": [
    "clases = (2, 6.5, 8)\n",
    "grupos_nombres = ['malo', 'bueno']\n",
    "wineDF['quality'] = pd.cut(wineDF['quality'], bins=clases, labels=grupos_nombres)\n",
    "\n",
    "\n",
    "from sklearn.preprocessing import LabelEncoder  #import used for LabelEncoder()\n",
    "calidad_etiqueta = LabelEncoder()\n",
    "#Mal vino es cero, buen vino es uno\n",
    "wineDF['quality'] = calidad_etiqueta.fit_transform(wineDF['quality'])\n",
    "                  "
   ]
  },
  {
   "cell_type": "markdown",
   "metadata": {},
   "source": [
    "Es posible que tras ejecutar la celda, salga un error. Esto es raro, porque de igual manera se clasifica de forma correcta la columna 'quality', como podemos ver abajo."
   ]
  },
  {
   "cell_type": "code",
   "execution_count": 33,
   "metadata": {},
   "outputs": [
    {
     "data": {
      "text/html": [
       "<div>\n",
       "<style scoped>\n",
       "    .dataframe tbody tr th:only-of-type {\n",
       "        vertical-align: middle;\n",
       "    }\n",
       "\n",
       "    .dataframe tbody tr th {\n",
       "        vertical-align: top;\n",
       "    }\n",
       "\n",
       "    .dataframe thead th {\n",
       "        text-align: right;\n",
       "    }\n",
       "</style>\n",
       "<table border=\"1\" class=\"dataframe\">\n",
       "  <thead>\n",
       "    <tr style=\"text-align: right;\">\n",
       "      <th></th>\n",
       "      <th>fixedAcidity</th>\n",
       "      <th>volatileAcidity</th>\n",
       "      <th>citricAcid</th>\n",
       "      <th>residualSugar</th>\n",
       "      <th>chlorides</th>\n",
       "      <th>freeSulfurDioxide</th>\n",
       "      <th>totalSulfurDioxide</th>\n",
       "      <th>density</th>\n",
       "      <th>pH</th>\n",
       "      <th>sulphates</th>\n",
       "      <th>alcohol</th>\n",
       "      <th>quality</th>\n",
       "    </tr>\n",
       "  </thead>\n",
       "  <tbody>\n",
       "    <tr>\n",
       "      <th>0</th>\n",
       "      <td>7.4</td>\n",
       "      <td>0.70</td>\n",
       "      <td>0.00</td>\n",
       "      <td>1.9</td>\n",
       "      <td>0.076</td>\n",
       "      <td>11.0</td>\n",
       "      <td>34.0</td>\n",
       "      <td>0.9978</td>\n",
       "      <td>3.51</td>\n",
       "      <td>0.56</td>\n",
       "      <td>9.4</td>\n",
       "      <td>malo</td>\n",
       "    </tr>\n",
       "    <tr>\n",
       "      <th>1</th>\n",
       "      <td>7.8</td>\n",
       "      <td>0.88</td>\n",
       "      <td>0.00</td>\n",
       "      <td>2.6</td>\n",
       "      <td>0.098</td>\n",
       "      <td>25.0</td>\n",
       "      <td>67.0</td>\n",
       "      <td>0.9968</td>\n",
       "      <td>3.20</td>\n",
       "      <td>0.68</td>\n",
       "      <td>9.8</td>\n",
       "      <td>malo</td>\n",
       "    </tr>\n",
       "    <tr>\n",
       "      <th>2</th>\n",
       "      <td>7.8</td>\n",
       "      <td>0.76</td>\n",
       "      <td>0.04</td>\n",
       "      <td>2.3</td>\n",
       "      <td>0.092</td>\n",
       "      <td>15.0</td>\n",
       "      <td>54.0</td>\n",
       "      <td>0.9970</td>\n",
       "      <td>3.26</td>\n",
       "      <td>0.65</td>\n",
       "      <td>9.8</td>\n",
       "      <td>malo</td>\n",
       "    </tr>\n",
       "    <tr>\n",
       "      <th>3</th>\n",
       "      <td>11.2</td>\n",
       "      <td>0.28</td>\n",
       "      <td>0.56</td>\n",
       "      <td>1.9</td>\n",
       "      <td>0.075</td>\n",
       "      <td>17.0</td>\n",
       "      <td>60.0</td>\n",
       "      <td>0.9980</td>\n",
       "      <td>3.16</td>\n",
       "      <td>0.58</td>\n",
       "      <td>9.8</td>\n",
       "      <td>malo</td>\n",
       "    </tr>\n",
       "    <tr>\n",
       "      <th>4</th>\n",
       "      <td>7.4</td>\n",
       "      <td>0.70</td>\n",
       "      <td>0.00</td>\n",
       "      <td>1.9</td>\n",
       "      <td>0.076</td>\n",
       "      <td>11.0</td>\n",
       "      <td>34.0</td>\n",
       "      <td>0.9978</td>\n",
       "      <td>3.51</td>\n",
       "      <td>0.56</td>\n",
       "      <td>9.4</td>\n",
       "      <td>malo</td>\n",
       "    </tr>\n",
       "  </tbody>\n",
       "</table>\n",
       "</div>"
      ],
      "text/plain": [
       "   fixedAcidity  volatileAcidity  citricAcid  residualSugar  chlorides  \\\n",
       "0           7.4             0.70        0.00            1.9      0.076   \n",
       "1           7.8             0.88        0.00            2.6      0.098   \n",
       "2           7.8             0.76        0.04            2.3      0.092   \n",
       "3          11.2             0.28        0.56            1.9      0.075   \n",
       "4           7.4             0.70        0.00            1.9      0.076   \n",
       "\n",
       "   freeSulfurDioxide  totalSulfurDioxide  density    pH  sulphates  alcohol  \\\n",
       "0               11.0                34.0   0.9978  3.51       0.56      9.4   \n",
       "1               25.0                67.0   0.9968  3.20       0.68      9.8   \n",
       "2               15.0                54.0   0.9970  3.26       0.65      9.8   \n",
       "3               17.0                60.0   0.9980  3.16       0.58      9.8   \n",
       "4               11.0                34.0   0.9978  3.51       0.56      9.4   \n",
       "\n",
       "  quality  \n",
       "0    malo  \n",
       "1    malo  \n",
       "2    malo  \n",
       "3    malo  \n",
       "4    malo  "
      ]
     },
     "execution_count": 33,
     "metadata": {},
     "output_type": "execute_result"
    }
   ],
   "source": [
    "wineDF.head()\n"
   ]
  },
  {
   "cell_type": "markdown",
   "metadata": {},
   "source": [
    "#### 2.g.2 Separar el dataset en entrenamiento y prueba, con el 20% para prueba"
   ]
  },
  {
   "cell_type": "code",
   "execution_count": 34,
   "metadata": {},
   "outputs": [],
   "source": [
    "from sklearn.model_selection import train_test_split\n",
    "\n",
    "# we define features, and target variable for our study.\n",
    "X = wineDF.drop(columns=['quality'])  # Features (all columns except 'quality')\n",
    "y = wineDF['quality']  # Target variable\n",
    "\n",
    "# Split the dataset into training (80%) and testing (20%) sets\n",
    "X_train, X_test, y_train, y_test = train_test_split(X, y, test_size=0.2, random_state=42)\n",
    "\n",
    "# 'X_train' and 'y_train' is the training data\n",
    "# 'X_test' and 'y_test' is the testing data\n"
   ]
  },
  {
   "cell_type": "markdown",
   "metadata": {},
   "source": [
    "#### 2.g.3 Aplicar el escalador standard para tener resultados optimizados (StandardScaler( ))"
   ]
  },
  {
   "cell_type": "markdown",
   "metadata": {},
   "source": [
    "Respecto al código dado, se hace una pequeña corrección. Añadimos la linea 'sc_X = StandardScaler()' para luego usr "
   ]
  },
  {
   "cell_type": "code",
   "execution_count": 39,
   "metadata": {},
   "outputs": [],
   "source": [
    "from sklearn.preprocessing import StandardScaler \n",
    "\n",
    "sc_X = StandardScaler() # Correction made to provided code.\n",
    "X_train = sc_X.fit_transform(X_train)\n",
    "X_test = sc_X.fit_transform(X_test)"
   ]
  },
  {
   "cell_type": "markdown",
   "metadata": {},
   "source": [
    "#### 2.g.4 Aplicar el randomforestClassifier (n_estimators = 200)"
   ]
  },
  {
   "cell_type": "code",
   "execution_count": 41,
   "metadata": {},
   "outputs": [
    {
     "data": {
      "text/html": [
       "<style>#sk-container-id-2 {color: black;background-color: white;}#sk-container-id-2 pre{padding: 0;}#sk-container-id-2 div.sk-toggleable {background-color: white;}#sk-container-id-2 label.sk-toggleable__label {cursor: pointer;display: block;width: 100%;margin-bottom: 0;padding: 0.3em;box-sizing: border-box;text-align: center;}#sk-container-id-2 label.sk-toggleable__label-arrow:before {content: \"▸\";float: left;margin-right: 0.25em;color: #696969;}#sk-container-id-2 label.sk-toggleable__label-arrow:hover:before {color: black;}#sk-container-id-2 div.sk-estimator:hover label.sk-toggleable__label-arrow:before {color: black;}#sk-container-id-2 div.sk-toggleable__content {max-height: 0;max-width: 0;overflow: hidden;text-align: left;background-color: #f0f8ff;}#sk-container-id-2 div.sk-toggleable__content pre {margin: 0.2em;color: black;border-radius: 0.25em;background-color: #f0f8ff;}#sk-container-id-2 input.sk-toggleable__control:checked~div.sk-toggleable__content {max-height: 200px;max-width: 100%;overflow: auto;}#sk-container-id-2 input.sk-toggleable__control:checked~label.sk-toggleable__label-arrow:before {content: \"▾\";}#sk-container-id-2 div.sk-estimator input.sk-toggleable__control:checked~label.sk-toggleable__label {background-color: #d4ebff;}#sk-container-id-2 div.sk-label input.sk-toggleable__control:checked~label.sk-toggleable__label {background-color: #d4ebff;}#sk-container-id-2 input.sk-hidden--visually {border: 0;clip: rect(1px 1px 1px 1px);clip: rect(1px, 1px, 1px, 1px);height: 1px;margin: -1px;overflow: hidden;padding: 0;position: absolute;width: 1px;}#sk-container-id-2 div.sk-estimator {font-family: monospace;background-color: #f0f8ff;border: 1px dotted black;border-radius: 0.25em;box-sizing: border-box;margin-bottom: 0.5em;}#sk-container-id-2 div.sk-estimator:hover {background-color: #d4ebff;}#sk-container-id-2 div.sk-parallel-item::after {content: \"\";width: 100%;border-bottom: 1px solid gray;flex-grow: 1;}#sk-container-id-2 div.sk-label:hover label.sk-toggleable__label {background-color: #d4ebff;}#sk-container-id-2 div.sk-serial::before {content: \"\";position: absolute;border-left: 1px solid gray;box-sizing: border-box;top: 0;bottom: 0;left: 50%;z-index: 0;}#sk-container-id-2 div.sk-serial {display: flex;flex-direction: column;align-items: center;background-color: white;padding-right: 0.2em;padding-left: 0.2em;position: relative;}#sk-container-id-2 div.sk-item {position: relative;z-index: 1;}#sk-container-id-2 div.sk-parallel {display: flex;align-items: stretch;justify-content: center;background-color: white;position: relative;}#sk-container-id-2 div.sk-item::before, #sk-container-id-2 div.sk-parallel-item::before {content: \"\";position: absolute;border-left: 1px solid gray;box-sizing: border-box;top: 0;bottom: 0;left: 50%;z-index: -1;}#sk-container-id-2 div.sk-parallel-item {display: flex;flex-direction: column;z-index: 1;position: relative;background-color: white;}#sk-container-id-2 div.sk-parallel-item:first-child::after {align-self: flex-end;width: 50%;}#sk-container-id-2 div.sk-parallel-item:last-child::after {align-self: flex-start;width: 50%;}#sk-container-id-2 div.sk-parallel-item:only-child::after {width: 0;}#sk-container-id-2 div.sk-dashed-wrapped {border: 1px dashed gray;margin: 0 0.4em 0.5em 0.4em;box-sizing: border-box;padding-bottom: 0.4em;background-color: white;}#sk-container-id-2 div.sk-label label {font-family: monospace;font-weight: bold;display: inline-block;line-height: 1.2em;}#sk-container-id-2 div.sk-label-container {text-align: center;}#sk-container-id-2 div.sk-container {/* jupyter's `normalize.less` sets `[hidden] { display: none; }` but bootstrap.min.css set `[hidden] { display: none !important; }` so we also need the `!important` here to be able to override the default hidden behavior on the sphinx rendered scikit-learn.org. See: https://github.com/scikit-learn/scikit-learn/issues/21755 */display: inline-block !important;position: relative;}#sk-container-id-2 div.sk-text-repr-fallback {display: none;}</style><div id=\"sk-container-id-2\" class=\"sk-top-container\"><div class=\"sk-text-repr-fallback\"><pre>RandomForestClassifier(n_estimators=200, random_state=50)</pre><b>In a Jupyter environment, please rerun this cell to show the HTML representation or trust the notebook. <br />On GitHub, the HTML representation is unable to render, please try loading this page with nbviewer.org.</b></div><div class=\"sk-container\" hidden><div class=\"sk-item\"><div class=\"sk-estimator sk-toggleable\"><input class=\"sk-toggleable__control sk-hidden--visually\" id=\"sk-estimator-id-2\" type=\"checkbox\" checked><label for=\"sk-estimator-id-2\" class=\"sk-toggleable__label sk-toggleable__label-arrow\">RandomForestClassifier</label><div class=\"sk-toggleable__content\"><pre>RandomForestClassifier(n_estimators=200, random_state=50)</pre></div></div></div></div></div>"
      ],
      "text/plain": [
       "RandomForestClassifier(n_estimators=200, random_state=50)"
      ]
     },
     "execution_count": 41,
     "metadata": {},
     "output_type": "execute_result"
    }
   ],
   "source": [
    "# Initialize the Random Forest Classifier with n_estimators=200\n",
    "rf_classifier = RandomForestClassifier(n_estimators=200, random_state=50)\n",
    "\n",
    "# Fit the classifier to the training data\n",
    "rf_classifier.fit(X_train, y_train)"
   ]
  },
  {
   "cell_type": "markdown",
   "metadata": {},
   "source": [
    "#### 2.g.5 Presentar un reporte de clasificacion"
   ]
  },
  {
   "cell_type": "code",
   "execution_count": 44,
   "metadata": {},
   "outputs": [],
   "source": [
    "from sklearn.metrics import classification_report, confusion_matrix, accuracy_score # used for the report "
   ]
  },
  {
   "cell_type": "code",
   "execution_count": 45,
   "metadata": {},
   "outputs": [],
   "source": [
    "y_pred = rf_classifier.predict(X_test)\n"
   ]
  },
  {
   "cell_type": "code",
   "execution_count": 46,
   "metadata": {},
   "outputs": [
    {
     "name": "stdout",
     "output_type": "stream",
     "text": [
      "Accuracy: 0.89375\n",
      "\n",
      "Classification Report:\n",
      "               precision    recall  f1-score   support\n",
      "\n",
      "       bueno       0.72      0.45      0.55        47\n",
      "        malo       0.91      0.97      0.94       273\n",
      "\n",
      "    accuracy                           0.89       320\n",
      "   macro avg       0.82      0.71      0.75       320\n",
      "weighted avg       0.88      0.89      0.88       320\n",
      "\n",
      "\n",
      "Confusion Matrix:\n",
      " [[ 21  26]\n",
      " [  8 265]]\n"
     ]
    }
   ],
   "source": [
    "print(\"Accuracy:\", accuracy_score(y_test, y_pred))\n",
    "print(\"\\nClassification Report:\\n\", classification_report(y_test, y_pred))\n",
    "print(\"\\nConfusion Matrix:\\n\", confusion_matrix(y_test, y_pred))"
   ]
  },
  {
   "cell_type": "markdown",
   "metadata": {},
   "source": [
    "El informe de clasificación nos permite ver que el modelo tiene una precisión global del 89%.\n",
    "\n",
    "Examinando el rendimiento por clases, observamos que para la clase \"bueno\" (buen vino), el modelo alcanza una precisión de 0,72, lo que indica que cuando predice un vino como \"bueno\", acierta el 72% de las veces. Sin embargo, el recuerdo de esta clase es relativamente inferior (0,45), lo que implica que el modelo tiende a pasar por alto los vinos buenos. En cambio, para la clase \"malo\", el modelo funciona excepcionalmente bien, con una precisión de 0,91 y una alta recuperación de 0,97, lo que significa que identifica correctamente la mayoría de los vinos \"malos\" con un bajo índice de falsos positivos.\n",
    "\n",
    "La puntuación F1, que equilibra la precisión y la recuperación, revela datos interesantes. Para la clase \"bueno\", la puntuación F1 es de 0,55, lo que indica un equilibrio entre precisión y recuperación. En cambio, para la clase \"malo\", la puntuación F1 es notablemente superior, 0,94, lo que refleja un sólido equilibrio entre precisión y recuperación.\n",
    "\n",
    "Teniendo en cuenta la distribución de las clases en los datos de prueba, hay 47 casos de vinos \"buenos\" y 273 casos de vinos \"malos\". Cabe destacar el excepcional rendimiento del modelo en la identificación de vinos \"malos\", pero también el desbalance de los datos, lo cual podría explicar los  puntajes del modelo en la clasificación de vinos buenos.\n",
    "\n",
    "Por lo que respecta a la evaluación global del modelo, la media macro de la puntuación F1 es de 0,75, lo que proporciona una medida general del rendimiento del modelo. La puntuación F1 media ponderada, de 0,88, tiene en cuenta el desequilibrio de clases, lo que indica que el modelo demuestra un poder predictivo global aceptable."
   ]
  },
  {
   "cell_type": "markdown",
   "metadata": {},
   "source": [
    "#### 2.g.6 Presente y explique la matriz de confusión"
   ]
  },
  {
   "cell_type": "code",
   "execution_count": 47,
   "metadata": {},
   "outputs": [
    {
     "data": {
      "image/png": "[encoded data removed]",
      "text/plain": [
       "<Figure size 640x480 with 2 Axes>"
      ]
     },
     "metadata": {},
     "output_type": "display_data"
    }
   ],
   "source": [
    "cm = confusion_matrix(y_test, y_pred)\n",
    "sns.heatmap(cm, annot=True, fmt='d', cmap='Blues', square=True)\n",
    "plt.xlabel('Predicted')\n",
    "plt.ylabel('Actual')\n",
    "plt.title('Confusion Matrix')\n",
    "plt.show()"
   ]
  },
  {
   "cell_type": "markdown",
   "metadata": {},
   "source": [
    "- Verdaderos positivos (TP): 265\n",
    "Representa el número de vinos \"buenos\" (de buena calidad) que el modelo clasificó correctamente como \"buenos\". En otras palabras, el modelo identificó correctamente 265 casos de vino de buena calidad.\n",
    "\n",
    "- Falsos positivos (FP): 26\n",
    "Son los vinos \"malos\" que el modelo clasificó incorrectamente como \"buenos\". El modelo los predijo como de buena calidad, pero en realidad eran de mala calidad. Esto indica cierto nivel de falso optimismo.\n",
    "\n",
    "- Verdaderos negativos (VN): 21\n",
    "Estos son los vinos \"malos\" que el modelo identificó correctamente como \"malos\". El modelo reconoció correctamente 21 casos de vino de mala calidad.\n",
    "\n",
    "- Falsos negativos (FN): 8\n",
    "Representa el número de vinos \"buenos\" que el modelo clasificó incorrectamente como \"malos\". En otras palabras, el modelo los predijo como de mala calidad, pero en realidad eran de buena calidad. Esto sugiere que el modelo pasa por alto algunos vinos de buena calidad."
   ]
  },
  {
   "cell_type": "markdown",
   "metadata": {},
   "source": [
    "#### 2.g.7 Aplique el clasificador Stochastic Gradient Descent y presente el reporte de clasificación\n"
   ]
  },
  {
   "cell_type": "code",
   "execution_count": 48,
   "metadata": {},
   "outputs": [
    {
     "data": {
      "text/html": [
       "<style>#sk-container-id-3 {color: black;background-color: white;}#sk-container-id-3 pre{padding: 0;}#sk-container-id-3 div.sk-toggleable {background-color: white;}#sk-container-id-3 label.sk-toggleable__label {cursor: pointer;display: block;width: 100%;margin-bottom: 0;padding: 0.3em;box-sizing: border-box;text-align: center;}#sk-container-id-3 label.sk-toggleable__label-arrow:before {content: \"▸\";float: left;margin-right: 0.25em;color: #696969;}#sk-container-id-3 label.sk-toggleable__label-arrow:hover:before {color: black;}#sk-container-id-3 div.sk-estimator:hover label.sk-toggleable__label-arrow:before {color: black;}#sk-container-id-3 div.sk-toggleable__content {max-height: 0;max-width: 0;overflow: hidden;text-align: left;background-color: #f0f8ff;}#sk-container-id-3 div.sk-toggleable__content pre {margin: 0.2em;color: black;border-radius: 0.25em;background-color: #f0f8ff;}#sk-container-id-3 input.sk-toggleable__control:checked~div.sk-toggleable__content {max-height: 200px;max-width: 100%;overflow: auto;}#sk-container-id-3 input.sk-toggleable__control:checked~label.sk-toggleable__label-arrow:before {content: \"▾\";}#sk-container-id-3 div.sk-estimator input.sk-toggleable__control:checked~label.sk-toggleable__label {background-color: #d4ebff;}#sk-container-id-3 div.sk-label input.sk-toggleable__control:checked~label.sk-toggleable__label {background-color: #d4ebff;}#sk-container-id-3 input.sk-hidden--visually {border: 0;clip: rect(1px 1px 1px 1px);clip: rect(1px, 1px, 1px, 1px);height: 1px;margin: -1px;overflow: hidden;padding: 0;position: absolute;width: 1px;}#sk-container-id-3 div.sk-estimator {font-family: monospace;background-color: #f0f8ff;border: 1px dotted black;border-radius: 0.25em;box-sizing: border-box;margin-bottom: 0.5em;}#sk-container-id-3 div.sk-estimator:hover {background-color: #d4ebff;}#sk-container-id-3 div.sk-parallel-item::after {content: \"\";width: 100%;border-bottom: 1px solid gray;flex-grow: 1;}#sk-container-id-3 div.sk-label:hover label.sk-toggleable__label {background-color: #d4ebff;}#sk-container-id-3 div.sk-serial::before {content: \"\";position: absolute;border-left: 1px solid gray;box-sizing: border-box;top: 0;bottom: 0;left: 50%;z-index: 0;}#sk-container-id-3 div.sk-serial {display: flex;flex-direction: column;align-items: center;background-color: white;padding-right: 0.2em;padding-left: 0.2em;position: relative;}#sk-container-id-3 div.sk-item {position: relative;z-index: 1;}#sk-container-id-3 div.sk-parallel {display: flex;align-items: stretch;justify-content: center;background-color: white;position: relative;}#sk-container-id-3 div.sk-item::before, #sk-container-id-3 div.sk-parallel-item::before {content: \"\";position: absolute;border-left: 1px solid gray;box-sizing: border-box;top: 0;bottom: 0;left: 50%;z-index: -1;}#sk-container-id-3 div.sk-parallel-item {display: flex;flex-direction: column;z-index: 1;position: relative;background-color: white;}#sk-container-id-3 div.sk-parallel-item:first-child::after {align-self: flex-end;width: 50%;}#sk-container-id-3 div.sk-parallel-item:last-child::after {align-self: flex-start;width: 50%;}#sk-container-id-3 div.sk-parallel-item:only-child::after {width: 0;}#sk-container-id-3 div.sk-dashed-wrapped {border: 1px dashed gray;margin: 0 0.4em 0.5em 0.4em;box-sizing: border-box;padding-bottom: 0.4em;background-color: white;}#sk-container-id-3 div.sk-label label {font-family: monospace;font-weight: bold;display: inline-block;line-height: 1.2em;}#sk-container-id-3 div.sk-label-container {text-align: center;}#sk-container-id-3 div.sk-container {/* jupyter's `normalize.less` sets `[hidden] { display: none; }` but bootstrap.min.css set `[hidden] { display: none !important; }` so we also need the `!important` here to be able to override the default hidden behavior on the sphinx rendered scikit-learn.org. See: https://github.com/scikit-learn/scikit-learn/issues/21755 */display: inline-block !important;position: relative;}#sk-container-id-3 div.sk-text-repr-fallback {display: none;}</style><div id=\"sk-container-id-3\" class=\"sk-top-container\"><div class=\"sk-text-repr-fallback\"><pre>SGDClassifier(random_state=50)</pre><b>In a Jupyter environment, please rerun this cell to show the HTML representation or trust the notebook. <br />On GitHub, the HTML representation is unable to render, please try loading this page with nbviewer.org.</b></div><div class=\"sk-container\" hidden><div class=\"sk-item\"><div class=\"sk-estimator sk-toggleable\"><input class=\"sk-toggleable__control sk-hidden--visually\" id=\"sk-estimator-id-3\" type=\"checkbox\" checked><label for=\"sk-estimator-id-3\" class=\"sk-toggleable__label sk-toggleable__label-arrow\">SGDClassifier</label><div class=\"sk-toggleable__content\"><pre>SGDClassifier(random_state=50)</pre></div></div></div></div></div>"
      ],
      "text/plain": [
       "SGDClassifier(random_state=50)"
      ]
     },
     "execution_count": 48,
     "metadata": {},
     "output_type": "execute_result"
    }
   ],
   "source": [
    "# First, we create an instance on the classifier based on the training and testing data\n",
    "sgd_classifier = SGDClassifier(random_state=50)\n",
    "sgd_classifier.fit(X_train, y_train)"
   ]
  },
  {
   "cell_type": "code",
   "execution_count": 49,
   "metadata": {},
   "outputs": [],
   "source": [
    "# We then make some predictions with the model\n",
    "y_pred_sgd = sgd_classifier.predict(X_test)"
   ]
  },
  {
   "cell_type": "code",
   "execution_count": 50,
   "metadata": {},
   "outputs": [
    {
     "name": "stdout",
     "output_type": "stream",
     "text": [
      "SGD Classifier Classification Report:\n",
      "              precision    recall  f1-score   support\n",
      "\n",
      "       bueno       0.33      0.13      0.18        47\n",
      "        malo       0.86      0.96      0.91       273\n",
      "\n",
      "    accuracy                           0.83       320\n",
      "   macro avg       0.60      0.54      0.55       320\n",
      "weighted avg       0.79      0.83      0.80       320\n",
      "\n"
     ]
    }
   ],
   "source": [
    "# Next the relevant metrics of the model are shown.\n",
    "print(\"SGD Classifier Classification Report:\")\n",
    "print(classification_report(y_test, y_pred_sgd))"
   ]
  },
  {
   "cell_type": "code",
   "execution_count": 51,
   "metadata": {},
   "outputs": [
    {
     "data": {
      "image/png": "[encoded data removed]",
      "text/plain": [
       "<Figure size 640x480 with 2 Axes>"
      ]
     },
     "metadata": {},
     "output_type": "display_data"
    }
   ],
   "source": [
    "# And finally, the confussion matrix for the model is displayed.\n",
    "cm_sgd = confusion_matrix(y_test, y_pred_sgd)\n",
    "sns.heatmap(cm_sgd, annot=True, fmt='d', cmap='Blues', square=True)\n",
    "plt.xlabel('Predicted')\n",
    "plt.ylabel('Actual')\n",
    "plt.title('SGD Classifier Confusion Matrix')\n",
    "plt.show()"
   ]
  },
  {
   "cell_type": "markdown",
   "metadata": {},
   "source": [
    "#### Conclusiones sobre ambos modelos\n",
    "**Clasificador Random Forest:**\n",
    "\n",
    "El clasificador Random Forest mostró un buen rendimiento global con una precisión del 89%. Demostró una capacidad excepcional para identificar vinos \"malos\" (de mala calidad) con una precisión de 0,91 y una recuperación de 0,97, lo que indica que identificó correctamente la mayoría de los vinos \"malos\" reales con un bajo índice de falsos positivos. Sin embargo, cuando se trata de identificar vinos \"buenos\" (de buena calidad), el modelo mostró margen de mejora. Alcanzó una precisión de 0,72, pero una recuperación inferior de 0,45, lo que sugiere que tiende a pasar por alto algunos vinos buenos. La puntuación F1 media ponderada de 0,88 indica que el modelo tiene un buen poder predictivo global. \n",
    "\n",
    "**Clasificador de Descenso Gradiente Estocástico (SGD):**\n",
    "\n",
    "El clasificador SGD se aplicó como modelo alternativo al conjunto de datos. Demostró un rendimiento competitivo, arrojando un informe de clasificación que muestra las métricas de precisión, recuperación, puntuación F1 y exactitud. El clasificador ofrece un enfoque flexible para las tareas de clasificación. Aunque sus métricas de rendimiento pueden variar en función de los hiperparámetros y del conjunto de datos, constituye una alternativa viable al clasificador Random Forest. \n",
    "\n",
    "En conclusión, tanto el clasificador Random Forest como el clasificador SGD ofrecen información valiosa para la clasificación de la calidad del vino. El modelo Random Forest destaca en la identificación de vinos de baja calidad, pero tiene margen de mejora en el reconocimiento de vinos de buena calidad. "
   ]
  }
 ],
 "metadata": {
  "kernelspec": {
   "display_name": "base",
   "language": "python",
   "name": "python3"
  },
  "language_info": {
   "codemirror_mode": {
    "name": "ipython",
    "version": 3
   },
   "file_extension": ".py",
   "mimetype": "text/x-python",
   "name": "python",
   "nbconvert_exporter": "python",
   "pygments_lexer": "ipython3",
   "version": "3.10.9"
  },
  "orig_nbformat": 4
 },
 "nbformat": 4,
 "nbformat_minor": 2
}
