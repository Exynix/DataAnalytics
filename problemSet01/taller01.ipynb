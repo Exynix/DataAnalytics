{
 "cells": [
  {
   "cell_type": "markdown",
   "metadata": {},
   "source": [
    "# Taller 01 - Analítica de datos\n",
    "- **Autor:** David Santiago Barreto Mora\n",
    "- **Profesor:** Jhon Corredor\n",
    "- **Objetivo:** Conocer las diferentes herramientas para el tratamiento de texto.\n",
    "---"
   ]
  },
  {
   "cell_type": "markdown",
   "metadata": {},
   "source": [
    "## 2. Carga de fuente de datos\n",
    "### 2.b Escribir en secciones de texto del cuaderno python, brevemente la utilidad de las siguientes bibliotecas en azul:\n",
    "a. numpy\n",
    "b. regex c. string\n",
    "d. nltk.tokenize import word_tokenize\n",
    "e. nltk.stem import WordNetLemmatizer\n",
    "f. wordcloud import WordCloud\n",
    "g. sklearn.feature_extraction.text import TfidfVectorizer"
   ]
  }
 ],
 "metadata": {
  "kernelspec": {
   "display_name": "base",
   "language": "python",
   "name": "python3"
  },
  "language_info": {
   "name": "python",
   "version": "3.10.9"
  },
  "orig_nbformat": 4
 },
 "nbformat": 4,
 "nbformat_minor": 2
}
