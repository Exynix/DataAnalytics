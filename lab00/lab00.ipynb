{
 "cells": [
  {
   "cell_type": "markdown",
   "metadata": {},
   "source": [
    "# Taller 00 - Analítica de Datos\n",
    "- **Autor:** David Santiago Barreto Mora.\n",
    "- **Fecha de entrega:** 10/08/2023 \n",
    "- **Profesor:** Ing. John Corredo, PhD.\n",
    "---"
   ]
  },
  {
   "cell_type": "markdown",
   "metadata": {},
   "source": [
    "## Fuente de datos\n",
    "Para el desarrollo del taller, se usan los archivos de extension .csv dados por el profesor. Los archivos detallan las ventas hechas en Colombia en 2019, de lo que se presume es una tienda de tecnología. En total son 12 archivos, cada uno correspondiendo a las ventas de un mes, por lo que el dataset en total constituye las ventas anuales del 2019 de la empresa en cuestión.\n",
    "\n",
    "Para poder comenzar realizar el trabajo analítico, primero importamos las librerias a ser usadas, y por supuesto, los archivos .csv.\n",
    "\n"
   ]
  },
  {
   "cell_type": "markdown",
   "metadata": {},
   "source": [
    "### Carga de librerias\n"
   ]
  },
  {
   "cell_type": "code",
   "execution_count": 2,
   "metadata": {},
   "outputs": [],
   "source": [
    "# Se importan las librerias que serán usadas en el análisis.\n",
    "import pandas as pd\n",
    "import numpy as np\n",
    "import seaborn as sns\n",
    "import matplotlib as plt\n"
   ]
  },
  {
   "cell_type": "markdown",
   "metadata": {},
   "source": [
    "### Carga de los datos (archivos .csv) \n",
    "A continuación se cargan los 12 archivos CSV y se crea un dataframe por cada uno. Esto con la intención de unir todos los dataframes en uno solo, para posteriormente facilitar su manipulación y análisis."
   ]
  },
  {
   "cell_type": "code",
   "execution_count": 8,
   "metadata": {},
   "outputs": [],
   "source": [
    "# Se importan los 12 archivos .csv, y por cada uno se crea un dataframe (libreria pandas)\n",
    "df1 = pd.read_csv(\"Ventas_January_2019.csv\")"
   ]
  }
 ],
 "metadata": {
  "kernelspec": {
   "display_name": "base",
   "language": "python",
   "name": "python3"
  },
  "language_info": {
   "codemirror_mode": {
    "name": "ipython",
    "version": 3
   },
   "file_extension": ".py",
   "mimetype": "text/x-python",
   "name": "python",
   "nbconvert_exporter": "python",
   "pygments_lexer": "ipython3",
   "version": "3.9.13"
  },
  "orig_nbformat": 4
 },
 "nbformat": 4,
 "nbformat_minor": 2
}
