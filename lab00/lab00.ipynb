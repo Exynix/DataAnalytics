{
 "cells": [
  {
   "cell_type": "markdown",
   "metadata": {},
   "source": [
    "# Taller 00 - Analítica de Datos\n",
    "- **Autor:** David Santiago Barreto Mora.\n",
    "- **Fecha de entrega:** 10/08/2023 \n",
    "- **Profesor:** Ing. John Corredo, PhD.\n",
    "---"
   ]
  },
  {
   "cell_type": "markdown",
   "metadata": {},
   "source": [
    "## Fuente de datos\n",
    "Para el desarrollo del taller, se usan los archivos de extension .csv dados por el profesor. Los archivos detallan las ventas hechas en Colombia en 2019, de lo que se presume es una tienda de tecnología. En total son 12 archivos, cada uno correspondiendo a las ventas de un mes, por lo que el dataset en total constituye las ventas anuales del 2019 de la empresa en cuestión.\n",
    "\n",
    "Para poder comenzar realizar el trabajo analítico, primero importamos las librerias a ser usadas, y por supuesto, los archivos .csv.\n",
    "\n"
   ]
  },
  {
   "cell_type": "markdown",
   "metadata": {},
   "source": [
    "### Carga de librerias\n"
   ]
  },
  {
   "cell_type": "code",
   "execution_count": 2,
   "metadata": {},
   "outputs": [],
   "source": [
    "# Se importan las librerias que serán usadas en el análisis.\n",
    "import pandas as pd\n",
    "import numpy as np\n",
    "import seaborn as sns\n",
    "import matplotlib as plt\n"
   ]
  },
  {
   "cell_type": "markdown",
   "metadata": {},
   "source": [
    "### Carga de los datos (archivos .csv) \n",
    "A continuación se cargan los 12 archivos CSV y se crea un dataframe por cada uno. Esto con la intención de unir todos los dataframes en uno solo, para posteriormente facilitar su manipulación y análisis."
   ]
  },
  {
   "cell_type": "code",
   "execution_count": 7,
   "metadata": {},
   "outputs": [],
   "source": [
    "# Se importan los 12 archivos .csv, y por cada uno se crea un dataframe (libreria pandas)\n",
    "dfJanuary = pd.read_csv(\"Ventas/Ventas_January_2019.csv\")\n",
    "dfFebruary = pd.read_csv(\"Ventas/Ventas_February_2019.csv\")\n",
    "dfMarch = pd.read_csv(\"Ventas/Ventas_March_2019.csv\")\n",
    "dfApril = pd.read_csv(\"Ventas/Ventas_April_2019.csv\")\n",
    "dfMay = pd.read_csv(\"Ventas/Ventas_May_2019.csv\")\n",
    "dfJune = pd.read_csv(\"Ventas/Ventas_June_2019.csv\")\n",
    "dfJuly = pd.read_csv(\"Ventas/Ventas_July_2019.csv\")\n",
    "dfAugust = pd.read_csv(\"Ventas/Ventas_August_2019.csv\")\n",
    "dfSeptember = pd.read_csv(\"Ventas/Ventas_September_2019.csv\")\n",
    "dfOctober = pd.read_csv(\"Ventas/Ventas_October_2019.csv\")\n",
    "dfNovember = pd.read_csv(\"Ventas/Ventas_November_2019.csv\")\n",
    "dfDecember = pd.read_csv(\"Ventas/Ventas_December_2019.csv\")\n"
   ]
  },
  {
   "cell_type": "markdown",
   "metadata": {},
   "source": [
    "A continuación imprimimos las primera fila de cada dataframe. Principalmente, para ver que las columnas de todos los dataframes sean las mismas. Esta verificicación es hecha para validar que se puedan unir los dataframes en uno solo."
   ]
  },
  {
   "cell_type": "code",
   "execution_count": 8,
   "metadata": {},
   "outputs": [
    {
     "data": {
      "text/html": [
       "<div>\n",
       "<style scoped>\n",
       "    .dataframe tbody tr th:only-of-type {\n",
       "        vertical-align: middle;\n",
       "    }\n",
       "\n",
       "    .dataframe tbody tr th {\n",
       "        vertical-align: top;\n",
       "    }\n",
       "\n",
       "    .dataframe thead th {\n",
       "        text-align: right;\n",
       "    }\n",
       "</style>\n",
       "<table border=\"1\" class=\"dataframe\">\n",
       "  <thead>\n",
       "    <tr style=\"text-align: right;\">\n",
       "      <th></th>\n",
       "      <th>ID Orden</th>\n",
       "      <th>Producto</th>\n",
       "      <th>Cantidad Ordenada</th>\n",
       "      <th>Precio Unitario</th>\n",
       "      <th>Fecha</th>\n",
       "      <th>Dirección de Compra</th>\n",
       "    </tr>\n",
       "  </thead>\n",
       "  <tbody>\n",
       "    <tr>\n",
       "      <th>0</th>\n",
       "      <td>141234</td>\n",
       "      <td>Audifonos Apple Airpods</td>\n",
       "      <td>1</td>\n",
       "      <td>499900</td>\n",
       "      <td>01/25/19 13:51</td>\n",
       "      <td>177 calle Jimenez, Cali, VC</td>\n",
       "    </tr>\n",
       "  </tbody>\n",
       "</table>\n",
       "</div>"
      ],
      "text/plain": [
       "  ID Orden                Producto   Cantidad Ordenada Precio Unitario   \\\n",
       "0   141234  Audifonos Apple Airpods                  1           499900   \n",
       "\n",
       "            Fecha          Dirección de Compra  \n",
       "0  01/25/19 13:51  177 calle Jimenez, Cali, VC  "
      ]
     },
     "execution_count": 8,
     "metadata": {},
     "output_type": "execute_result"
    }
   ],
   "source": [
    "# Se muestra la primera columna del dataframe de enero.\n",
    "dfJanuary.head(1)\n"
   ]
  },
  {
   "cell_type": "code",
   "execution_count": 9,
   "metadata": {},
   "outputs": [
    {
     "data": {
      "text/html": [
       "<div>\n",
       "<style scoped>\n",
       "    .dataframe tbody tr th:only-of-type {\n",
       "        vertical-align: middle;\n",
       "    }\n",
       "\n",
       "    .dataframe tbody tr th {\n",
       "        vertical-align: top;\n",
       "    }\n",
       "\n",
       "    .dataframe thead th {\n",
       "        text-align: right;\n",
       "    }\n",
       "</style>\n",
       "<table border=\"1\" class=\"dataframe\">\n",
       "  <thead>\n",
       "    <tr style=\"text-align: right;\">\n",
       "      <th></th>\n",
       "      <th>ID Orden</th>\n",
       "      <th>Producto</th>\n",
       "      <th>Cantidad Ordenada</th>\n",
       "      <th>Precio Unitario</th>\n",
       "      <th>Fecha</th>\n",
       "      <th>Dirección de Compra</th>\n",
       "    </tr>\n",
       "  </thead>\n",
       "  <tbody>\n",
       "    <tr>\n",
       "      <th>0</th>\n",
       "      <td>153258</td>\n",
       "      <td>Multiolla Oster 0150 Negra PE</td>\n",
       "      <td>1</td>\n",
       "      <td>299900</td>\n",
       "      <td>02/04/19 07:28</td>\n",
       "      <td>724 calle Adams, Cúcuta, NS</td>\n",
       "    </tr>\n",
       "  </tbody>\n",
       "</table>\n",
       "</div>"
      ],
      "text/plain": [
       "  ID Orden                      Producto   Cantidad Ordenada Precio Unitario   \\\n",
       "0   153258  Multiolla Oster 0150 Negra PE                  1           299900   \n",
       "\n",
       "            Fecha          Dirección de Compra  \n",
       "0  02/04/19 07:28  724 calle Adams, Cúcuta, NS  "
      ]
     },
     "execution_count": 9,
     "metadata": {},
     "output_type": "execute_result"
    }
   ],
   "source": [
    "# Se muestra la primera columna del dataframe de febrero.\n",
    "dfFebruary.head(1)\n"
   ]
  },
  {
   "cell_type": "code",
   "execution_count": 10,
   "metadata": {},
   "outputs": [
    {
     "data": {
      "text/html": [
       "<div>\n",
       "<style scoped>\n",
       "    .dataframe tbody tr th:only-of-type {\n",
       "        vertical-align: middle;\n",
       "    }\n",
       "\n",
       "    .dataframe tbody tr th {\n",
       "        vertical-align: top;\n",
       "    }\n",
       "\n",
       "    .dataframe thead th {\n",
       "        text-align: right;\n",
       "    }\n",
       "</style>\n",
       "<table border=\"1\" class=\"dataframe\">\n",
       "  <thead>\n",
       "    <tr style=\"text-align: right;\">\n",
       "      <th></th>\n",
       "      <th>ID Orden</th>\n",
       "      <th>Producto</th>\n",
       "      <th>Cantidad Ordenada</th>\n",
       "      <th>Precio Unitario</th>\n",
       "      <th>Fecha</th>\n",
       "      <th>Dirección de Compra</th>\n",
       "    </tr>\n",
       "  </thead>\n",
       "  <tbody>\n",
       "    <tr>\n",
       "      <th>0</th>\n",
       "      <td>163171</td>\n",
       "      <td>LG Secadora Carga Frontal</td>\n",
       "      <td>1</td>\n",
       "      <td>1646900</td>\n",
       "      <td>03/31/19 11:58</td>\n",
       "      <td>591 calle Adams, Medellin, AN</td>\n",
       "    </tr>\n",
       "  </tbody>\n",
       "</table>\n",
       "</div>"
      ],
      "text/plain": [
       "  ID Orden                  Producto   Cantidad Ordenada Precio Unitario   \\\n",
       "0   163171  LG Secadora Carga Frontal                  1          1646900   \n",
       "\n",
       "            Fecha            Dirección de Compra  \n",
       "0  03/31/19 11:58  591 calle Adams, Medellin, AN  "
      ]
     },
     "execution_count": 10,
     "metadata": {},
     "output_type": "execute_result"
    }
   ],
   "source": [
    "# Se muestra la primera columna del dataframe de marzo.\n",
    "dfMarch.head(1)\n"
   ]
  },
  {
   "cell_type": "code",
   "execution_count": 11,
   "metadata": {},
   "outputs": [
    {
     "data": {
      "text/html": [
       "<div>\n",
       "<style scoped>\n",
       "    .dataframe tbody tr th:only-of-type {\n",
       "        vertical-align: middle;\n",
       "    }\n",
       "\n",
       "    .dataframe tbody tr th {\n",
       "        vertical-align: top;\n",
       "    }\n",
       "\n",
       "    .dataframe thead th {\n",
       "        text-align: right;\n",
       "    }\n",
       "</style>\n",
       "<table border=\"1\" class=\"dataframe\">\n",
       "  <thead>\n",
       "    <tr style=\"text-align: right;\">\n",
       "      <th></th>\n",
       "      <th>ID Orden</th>\n",
       "      <th>Producto</th>\n",
       "      <th>Cantidad Ordenada</th>\n",
       "      <th>Precio Unitario</th>\n",
       "      <th>Fecha</th>\n",
       "      <th>Dirección de Compra</th>\n",
       "    </tr>\n",
       "  </thead>\n",
       "  <tbody>\n",
       "    <tr>\n",
       "      <th>0</th>\n",
       "      <td>171346</td>\n",
       "      <td>Cable de Carga USB-C P/O</td>\n",
       "      <td>1</td>\n",
       "      <td>46900</td>\n",
       "      <td>04/04/19 19:25</td>\n",
       "      <td>631 calle Boyacá, Armenia, QU</td>\n",
       "    </tr>\n",
       "  </tbody>\n",
       "</table>\n",
       "</div>"
      ],
      "text/plain": [
       "  ID Orden                 Producto   Cantidad Ordenada Precio Unitario   \\\n",
       "0   171346  Cable de Carga USB-C P/O                  1            46900   \n",
       "\n",
       "            Fecha            Dirección de Compra  \n",
       "0  04/04/19 19:25  631 calle Boyacá, Armenia, QU  "
      ]
     },
     "execution_count": 11,
     "metadata": {},
     "output_type": "execute_result"
    }
   ],
   "source": [
    "# Se muestra la primera columna del dataframe de abril\n",
    "dfApril.head(1)\n"
   ]
  },
  {
   "cell_type": "code",
   "execution_count": 12,
   "metadata": {},
   "outputs": [
    {
     "data": {
      "text/html": [
       "<div>\n",
       "<style scoped>\n",
       "    .dataframe tbody tr th:only-of-type {\n",
       "        vertical-align: middle;\n",
       "    }\n",
       "\n",
       "    .dataframe tbody tr th {\n",
       "        vertical-align: top;\n",
       "    }\n",
       "\n",
       "    .dataframe thead th {\n",
       "        text-align: right;\n",
       "    }\n",
       "</style>\n",
       "<table border=\"1\" class=\"dataframe\">\n",
       "  <thead>\n",
       "    <tr style=\"text-align: right;\">\n",
       "      <th></th>\n",
       "      <th>ID Orden</th>\n",
       "      <th>Producto</th>\n",
       "      <th>Cantidad Ordenada</th>\n",
       "      <th>Precio Unitario</th>\n",
       "      <th>Fecha</th>\n",
       "      <th>Dirección de Compra</th>\n",
       "    </tr>\n",
       "  </thead>\n",
       "  <tbody>\n",
       "    <tr>\n",
       "      <th>0</th>\n",
       "      <td>182565</td>\n",
       "      <td>LG Lavadora 19Kg Inv WT19</td>\n",
       "      <td>1</td>\n",
       "      <td>1646900</td>\n",
       "      <td>05/05/19 10:02</td>\n",
       "      <td>722 calle Adams, Bogotá, CU</td>\n",
       "    </tr>\n",
       "  </tbody>\n",
       "</table>\n",
       "</div>"
      ],
      "text/plain": [
       "  ID Orden                  Producto   Cantidad Ordenada Precio Unitario   \\\n",
       "0   182565  LG Lavadora 19Kg Inv WT19                  1          1646900   \n",
       "\n",
       "            Fecha          Dirección de Compra  \n",
       "0  05/05/19 10:02  722 calle Adams, Bogotá, CU  "
      ]
     },
     "execution_count": 12,
     "metadata": {},
     "output_type": "execute_result"
    }
   ],
   "source": [
    "# Se muestra la primera columna del dataframe de mayo.\n",
    "dfMay.head(1)\n"
   ]
  },
  {
   "cell_type": "code",
   "execution_count": 13,
   "metadata": {},
   "outputs": [
    {
     "data": {
      "text/html": [
       "<div>\n",
       "<style scoped>\n",
       "    .dataframe tbody tr th:only-of-type {\n",
       "        vertical-align: middle;\n",
       "    }\n",
       "\n",
       "    .dataframe tbody tr th {\n",
       "        vertical-align: top;\n",
       "    }\n",
       "\n",
       "    .dataframe thead th {\n",
       "        text-align: right;\n",
       "    }\n",
       "</style>\n",
       "<table border=\"1\" class=\"dataframe\">\n",
       "  <thead>\n",
       "    <tr style=\"text-align: right;\">\n",
       "      <th></th>\n",
       "      <th>ID Orden</th>\n",
       "      <th>Producto</th>\n",
       "      <th>Cantidad Ordenada</th>\n",
       "      <th>Precio Unitario</th>\n",
       "      <th>Fecha</th>\n",
       "      <th>Dirección de Compra</th>\n",
       "    </tr>\n",
       "  </thead>\n",
       "  <tbody>\n",
       "    <tr>\n",
       "      <th>0</th>\n",
       "      <td>195098</td>\n",
       "      <td>Cable de Carga Lightning</td>\n",
       "      <td>1</td>\n",
       "      <td>64900</td>\n",
       "      <td>06/17/19 20:12</td>\n",
       "      <td>736 calle Transversal, Medellin, AN</td>\n",
       "    </tr>\n",
       "  </tbody>\n",
       "</table>\n",
       "</div>"
      ],
      "text/plain": [
       "  ID Orden                 Producto   Cantidad Ordenada Precio Unitario   \\\n",
       "0   195098  Cable de Carga Lightning                  1            64900   \n",
       "\n",
       "            Fecha                  Dirección de Compra  \n",
       "0  06/17/19 20:12  736 calle Transversal, Medellin, AN  "
      ]
     },
     "execution_count": 13,
     "metadata": {},
     "output_type": "execute_result"
    }
   ],
   "source": [
    "# Se muestra la primera columna del dataframe de junio.\n",
    "dfJune.head(1)\n"
   ]
  },
  {
   "cell_type": "code",
   "execution_count": 14,
   "metadata": {},
   "outputs": [
    {
     "data": {
      "text/html": [
       "<div>\n",
       "<style scoped>\n",
       "    .dataframe tbody tr th:only-of-type {\n",
       "        vertical-align: middle;\n",
       "    }\n",
       "\n",
       "    .dataframe tbody tr th {\n",
       "        vertical-align: top;\n",
       "    }\n",
       "\n",
       "    .dataframe thead th {\n",
       "        text-align: right;\n",
       "    }\n",
       "</style>\n",
       "<table border=\"1\" class=\"dataframe\">\n",
       "  <thead>\n",
       "    <tr style=\"text-align: right;\">\n",
       "      <th></th>\n",
       "      <th>ID Orden</th>\n",
       "      <th>Producto</th>\n",
       "      <th>Cantidad Ordenada</th>\n",
       "      <th>Precio Unitario</th>\n",
       "      <th>Fecha</th>\n",
       "      <th>Dirección de Compra</th>\n",
       "    </tr>\n",
       "  </thead>\n",
       "  <tbody>\n",
       "    <tr>\n",
       "      <th>0</th>\n",
       "      <td>211128</td>\n",
       "      <td>AAA Batteries (4-pack)</td>\n",
       "      <td>1</td>\n",
       "      <td>12990</td>\n",
       "      <td>07/09/19 21:48</td>\n",
       "      <td>327 calle Carrera, Cúcuta, NS</td>\n",
       "    </tr>\n",
       "  </tbody>\n",
       "</table>\n",
       "</div>"
      ],
      "text/plain": [
       "  ID Orden               Producto   Cantidad Ordenada Precio Unitario   \\\n",
       "0   211128  AAA Batteries (4-pack)                  1            12990   \n",
       "\n",
       "            Fecha            Dirección de Compra  \n",
       "0  07/09/19 21:48  327 calle Carrera, Cúcuta, NS  "
      ]
     },
     "execution_count": 14,
     "metadata": {},
     "output_type": "execute_result"
    }
   ],
   "source": [
    "# Se muestra la primera columna del dataframe de julio.\n",
    "dfJuly.head(1)\n"
   ]
  },
  {
   "cell_type": "code",
   "execution_count": 15,
   "metadata": {},
   "outputs": [
    {
     "data": {
      "text/html": [
       "<div>\n",
       "<style scoped>\n",
       "    .dataframe tbody tr th:only-of-type {\n",
       "        vertical-align: middle;\n",
       "    }\n",
       "\n",
       "    .dataframe tbody tr th {\n",
       "        vertical-align: top;\n",
       "    }\n",
       "\n",
       "    .dataframe thead th {\n",
       "        text-align: right;\n",
       "    }\n",
       "</style>\n",
       "<table border=\"1\" class=\"dataframe\">\n",
       "  <thead>\n",
       "    <tr style=\"text-align: right;\">\n",
       "      <th></th>\n",
       "      <th>ID Orden</th>\n",
       "      <th>Producto</th>\n",
       "      <th>Cantidad Ordenada</th>\n",
       "      <th>Precio Unitario</th>\n",
       "      <th>Fecha</th>\n",
       "      <th>Dirección de Compra</th>\n",
       "    </tr>\n",
       "  </thead>\n",
       "  <tbody>\n",
       "    <tr>\n",
       "      <th>0</th>\n",
       "      <td>224782</td>\n",
       "      <td>AAA Batteries (4-pack)</td>\n",
       "      <td>2</td>\n",
       "      <td>12990</td>\n",
       "      <td>08/04/19 08:24</td>\n",
       "      <td>91 calle Boyacá, Armenia, QU</td>\n",
       "    </tr>\n",
       "  </tbody>\n",
       "</table>\n",
       "</div>"
      ],
      "text/plain": [
       "  ID Orden               Producto   Cantidad Ordenada Precio Unitario   \\\n",
       "0   224782  AAA Batteries (4-pack)                  2            12990   \n",
       "\n",
       "            Fecha           Dirección de Compra  \n",
       "0  08/04/19 08:24  91 calle Boyacá, Armenia, QU  "
      ]
     },
     "execution_count": 15,
     "metadata": {},
     "output_type": "execute_result"
    }
   ],
   "source": [
    "# Se muestra la primera columna del dataframe de agosto.\n",
    "dfAugust.head(1)\n"
   ]
  },
  {
   "cell_type": "code",
   "execution_count": 16,
   "metadata": {},
   "outputs": [
    {
     "data": {
      "text/html": [
       "<div>\n",
       "<style scoped>\n",
       "    .dataframe tbody tr th:only-of-type {\n",
       "        vertical-align: middle;\n",
       "    }\n",
       "\n",
       "    .dataframe tbody tr th {\n",
       "        vertical-align: top;\n",
       "    }\n",
       "\n",
       "    .dataframe thead th {\n",
       "        text-align: right;\n",
       "    }\n",
       "</style>\n",
       "<table border=\"1\" class=\"dataframe\">\n",
       "  <thead>\n",
       "    <tr style=\"text-align: right;\">\n",
       "      <th></th>\n",
       "      <th>ID Orden</th>\n",
       "      <th>Producto</th>\n",
       "      <th>Cantidad Ordenada</th>\n",
       "      <th>Precio Unitario</th>\n",
       "      <th>Fecha</th>\n",
       "      <th>Dirección de Compra</th>\n",
       "    </tr>\n",
       "  </thead>\n",
       "  <tbody>\n",
       "    <tr>\n",
       "      <th>0</th>\n",
       "      <td>242703</td>\n",
       "      <td>Samsung Galaxy A302</td>\n",
       "      <td>1</td>\n",
       "      <td>649900</td>\n",
       "      <td>09/19/19 12:57</td>\n",
       "      <td>508 calle 11ra, Manizalez, CA</td>\n",
       "    </tr>\n",
       "  </tbody>\n",
       "</table>\n",
       "</div>"
      ],
      "text/plain": [
       "  ID Orden            Producto   Cantidad Ordenada Precio Unitario   \\\n",
       "0   242703  Samsung Galaxy A302                  1           649900   \n",
       "\n",
       "            Fecha            Dirección de Compra  \n",
       "0  09/19/19 12:57  508 calle 11ra, Manizalez, CA  "
      ]
     },
     "execution_count": 16,
     "metadata": {},
     "output_type": "execute_result"
    }
   ],
   "source": [
    "# Se muestra la primera columna del dataframe de septiembre.\n",
    "dfSeptember.head(1)\n"
   ]
  },
  {
   "cell_type": "code",
   "execution_count": 17,
   "metadata": {},
   "outputs": [
    {
     "data": {
      "text/html": [
       "<div>\n",
       "<style scoped>\n",
       "    .dataframe tbody tr th:only-of-type {\n",
       "        vertical-align: middle;\n",
       "    }\n",
       "\n",
       "    .dataframe tbody tr th {\n",
       "        vertical-align: top;\n",
       "    }\n",
       "\n",
       "    .dataframe thead th {\n",
       "        text-align: right;\n",
       "    }\n",
       "</style>\n",
       "<table border=\"1\" class=\"dataframe\">\n",
       "  <thead>\n",
       "    <tr style=\"text-align: right;\">\n",
       "      <th></th>\n",
       "      <th>ID Orden</th>\n",
       "      <th>Producto</th>\n",
       "      <th>Cantidad Ordenada</th>\n",
       "      <th>Precio Unitario</th>\n",
       "      <th>Fecha</th>\n",
       "      <th>Dirección de Compra</th>\n",
       "    </tr>\n",
       "  </thead>\n",
       "  <tbody>\n",
       "    <tr>\n",
       "      <th>0</th>\n",
       "      <td>246400</td>\n",
       "      <td>Freidora Saludable B&amp;D 3.5 Litros</td>\n",
       "      <td>1</td>\n",
       "      <td>229900</td>\n",
       "      <td>10/05/19 17:01</td>\n",
       "      <td>893 calle 14va, Manizalez, CA</td>\n",
       "    </tr>\n",
       "  </tbody>\n",
       "</table>\n",
       "</div>"
      ],
      "text/plain": [
       "  ID Orden                          Producto   Cantidad Ordenada  \\\n",
       "0   246400  Freidora Saludable B&D 3.5 Litros                  1   \n",
       "\n",
       "  Precio Unitario            Fecha            Dirección de Compra  \n",
       "0           229900  10/05/19 17:01  893 calle 14va, Manizalez, CA  "
      ]
     },
     "execution_count": 17,
     "metadata": {},
     "output_type": "execute_result"
    }
   ],
   "source": [
    "# Se muestra la primera columna del dataframe de octubre.\n",
    "dfOctober.head(1)\n"
   ]
  },
  {
   "cell_type": "code",
   "execution_count": 18,
   "metadata": {},
   "outputs": [
    {
     "data": {
      "text/html": [
       "<div>\n",
       "<style scoped>\n",
       "    .dataframe tbody tr th:only-of-type {\n",
       "        vertical-align: middle;\n",
       "    }\n",
       "\n",
       "    .dataframe tbody tr th {\n",
       "        vertical-align: top;\n",
       "    }\n",
       "\n",
       "    .dataframe thead th {\n",
       "        text-align: right;\n",
       "    }\n",
       "</style>\n",
       "<table border=\"1\" class=\"dataframe\">\n",
       "  <thead>\n",
       "    <tr style=\"text-align: right;\">\n",
       "      <th></th>\n",
       "      <th>ID Orden</th>\n",
       "      <th>Producto</th>\n",
       "      <th>Cantidad Ordenada</th>\n",
       "      <th>Precio Unitario</th>\n",
       "      <th>Fecha</th>\n",
       "      <th>Dirección de Compra</th>\n",
       "    </tr>\n",
       "  </thead>\n",
       "  <tbody>\n",
       "    <tr>\n",
       "      <th>0</th>\n",
       "      <td>260944</td>\n",
       "      <td>Freidora Saludable B&amp;D 3.5 Litros</td>\n",
       "      <td>1</td>\n",
       "      <td>229900</td>\n",
       "      <td>11/12/19 14:57</td>\n",
       "      <td>79 calle Avenida, Armenia, QU</td>\n",
       "    </tr>\n",
       "  </tbody>\n",
       "</table>\n",
       "</div>"
      ],
      "text/plain": [
       "  ID Orden                          Producto   Cantidad Ordenada  \\\n",
       "0   260944  Freidora Saludable B&D 3.5 Litros                  1   \n",
       "\n",
       "  Precio Unitario            Fecha            Dirección de Compra  \n",
       "0           229900  11/12/19 14:57  79 calle Avenida, Armenia, QU  "
      ]
     },
     "execution_count": 18,
     "metadata": {},
     "output_type": "execute_result"
    }
   ],
   "source": [
    "# Se muestra la primera columna del dataframe de noviembre.\n",
    "dfNovember.head(1)\n"
   ]
  },
  {
   "cell_type": "code",
   "execution_count": 19,
   "metadata": {},
   "outputs": [
    {
     "data": {
      "text/html": [
       "<div>\n",
       "<style scoped>\n",
       "    .dataframe tbody tr th:only-of-type {\n",
       "        vertical-align: middle;\n",
       "    }\n",
       "\n",
       "    .dataframe tbody tr th {\n",
       "        vertical-align: top;\n",
       "    }\n",
       "\n",
       "    .dataframe thead th {\n",
       "        text-align: right;\n",
       "    }\n",
       "</style>\n",
       "<table border=\"1\" class=\"dataframe\">\n",
       "  <thead>\n",
       "    <tr style=\"text-align: right;\">\n",
       "      <th></th>\n",
       "      <th>ID Orden</th>\n",
       "      <th>Producto</th>\n",
       "      <th>Cantidad Ordenada</th>\n",
       "      <th>Precio Unitario</th>\n",
       "      <th>Fecha</th>\n",
       "      <th>Dirección de Compra</th>\n",
       "    </tr>\n",
       "  </thead>\n",
       "  <tbody>\n",
       "    <tr>\n",
       "      <th>0</th>\n",
       "      <td>276339</td>\n",
       "      <td>Audifonos Bose SoundSport</td>\n",
       "      <td>1</td>\n",
       "      <td>399900</td>\n",
       "      <td>12/11/19 19:29</td>\n",
       "      <td>345 calle Pte Aranda, Neiva, HU</td>\n",
       "    </tr>\n",
       "  </tbody>\n",
       "</table>\n",
       "</div>"
      ],
      "text/plain": [
       "  ID Orden                  Producto   Cantidad Ordenada Precio Unitario   \\\n",
       "0   276339  Audifonos Bose SoundSport                  1           399900   \n",
       "\n",
       "            Fecha              Dirección de Compra  \n",
       "0  12/11/19 19:29  345 calle Pte Aranda, Neiva, HU  "
      ]
     },
     "execution_count": 19,
     "metadata": {},
     "output_type": "execute_result"
    }
   ],
   "source": [
    "# Se muestra la primera columna del dataframe de diciembre.\n",
    "dfDecember.head(1)\n"
   ]
  },
  {
   "cell_type": "markdown",
   "metadata": {},
   "source": [
    "Como se puede ver, todos los dataframes (o archivos .csv) cuentan con 6 columnas:\n",
    "1. ID Orden\n",
    "2. Producto\n",
    "3. Cantidad Ordenada\n",
    "4. Precio Unitario\n",
    "5. Fecha\n",
    "6. Dirección de Compra\n",
    "\n",
    "Por lo que podemos seguir con la combinación de todos los dataframes en uno solo."
   ]
  },
  {
   "cell_type": "markdown",
   "metadata": {},
   "source": []
  },
  {
   "cell_type": "code",
   "execution_count": 25,
   "metadata": {},
   "outputs": [
    {
     "name": "stdout",
     "output_type": "stream",
     "text": [
      "(12554, 6)\n",
      "(10355, 6)\n",
      "22909\n",
      "(24474, 6)\n"
     ]
    }
   ],
   "source": [
    "print(dfJanuary.shape)\n",
    "print(dfFebruary.shape)\n",
    "print(12554 + 10355)\n",
    "mergedDf = pd.merge(dfJanuary, dfFebruary, how=\"outer\")\n",
    "print(mergedDf.shape)"
   ]
  }
 ],
 "metadata": {
  "kernelspec": {
   "display_name": "base",
   "language": "python",
   "name": "python3"
  },
  "language_info": {
   "codemirror_mode": {
    "name": "ipython",
    "version": 3
   },
   "file_extension": ".py",
   "mimetype": "text/x-python",
   "name": "python",
   "nbconvert_exporter": "python",
   "pygments_lexer": "ipython3",
   "version": "3.9.13"
  },
  "orig_nbformat": 4
 },
 "nbformat": 4,
 "nbformat_minor": 2
}
